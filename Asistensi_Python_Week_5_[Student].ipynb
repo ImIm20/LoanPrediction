{
  "nbformat": 4,
  "nbformat_minor": 0,
  "metadata": {
    "colab": {
      "provenance": [],
      "include_colab_link": true
    },
    "kernelspec": {
      "name": "python3",
      "display_name": "Python 3"
    },
    "language_info": {
      "name": "python"
    }
  },
  "cells": [
    {
      "cell_type": "markdown",
      "metadata": {
        "id": "view-in-github",
        "colab_type": "text"
      },
      "source": [
        "<a href=\"https://colab.research.google.com/github/ImIm20/LoanPrediction/blob/main/Asistensi_Python_Week_5_%5BStudent%5D.ipynb\" target=\"_parent\"><img src=\"https://colab.research.google.com/assets/colab-badge.svg\" alt=\"Open In Colab\"/></a>"
      ]
    },
    {
      "cell_type": "markdown",
      "source": [
        "# $\\text{Python Mei 23 | Asistensi Week 5 }$"
      ],
      "metadata": {
        "id": "jM2cikNX0KqA"
      }
    },
    {
      "cell_type": "markdown",
      "source": [
        "## $\\text{A. Rekapan Materi}$"
      ],
      "metadata": {
        "id": "-kaKSfWyKjRF"
      }
    },
    {
      "cell_type": "markdown",
      "source": [
        "### $\\text{1. Object Oriented Programming OOP}$\n",
        "- `organize code` : kode lebih mudah dipahami dan dipelihara.\n",
        "- `make reusable code` : dapat membuat objek baru berdasarkan template (class) yang sudah ada, dan objek baru secara otomatis memiliki semua atribut dan perilaku dari objek asal (template)\n",
        "- `real world model` : memungkinkan untuk memodelkan konsep dunia nyata dalam kode.\n",
        "\n",
        "\n",
        "<center>\n",
        "<img src=https://i.pinimg.com/736x/c9/bd/72/c9bd720c55eafc5410bbfad8252cdfee.jpg>\n",
        "<center>"
      ],
      "metadata": {
        "id": "DD3AYFRPxMo8"
      }
    },
    {
      "cell_type": "markdown",
      "source": [
        "#### Class\n",
        "- blueprint objek di dalam Python\n",
        "- naming convention: huruf **kapital** per kata\n",
        "```python\n",
        "class MyClass:\n",
        "    <process>\n",
        "```"
      ],
      "metadata": {
        "id": "qfqr-eLVzx9z"
      }
    },
    {
      "cell_type": "markdown",
      "source": [
        "#### Attribute\n",
        "- Secara garis besar, terdapat 2 jenis atribut yaitu:\n",
        "  - Class\n",
        "  - Instance\n",
        "- Atribut hanya terikat di kelas - kelas yang dimana atribut tersebut di definisikan\n",
        "- Atribut class didefinisikan seperti pembuatan variable, namun letaknya didalam class\n",
        "- Atribut instance Didefinisikan/inisialisasi dengan fungsi `__init__()`"
      ],
      "metadata": {
        "id": "5Ap2Q2_yz1Rn"
      }
    },
    {
      "cell_type": "code",
      "source": [
        "class mahasiswa():\n",
        "  jenis = 'mahasiswa tua'\n",
        "  def __init__(self, NIM, tahun_angkatan):\n",
        "    self.NIM = NIM\n",
        "    self.tahun_angkatan = tahun_angkatan\n",
        "\n",
        "    # self adalah parameter yang mereferensi ke diri sendiri"
      ],
      "metadata": {
        "id": "6s43hgNfwlsj",
        "outputId": "07733b40-58e6-4a7c-9c1d-5471eed5a079",
        "colab": {
          "base_uri": "https://localhost:8080/",
          "height": 165
        }
      },
      "execution_count": null,
      "outputs": [
        {
          "output_type": "error",
          "ename": "NameError",
          "evalue": "ignored",
          "traceback": [
            "\u001b[0;31m---------------------------------------------------------------------------\u001b[0m",
            "\u001b[0;31mNameError\u001b[0m                                 Traceback (most recent call last)",
            "\u001b[0;32m<ipython-input-1-79ebf985112b>\u001b[0m in \u001b[0;36m<cell line: 1>\u001b[0;34m()\u001b[0m\n\u001b[0;32m----> 1\u001b[0;31m \u001b[0mself\u001b[0m\u001b[0;34m.\u001b[0m\u001b[0mNIM\u001b[0m \u001b[0;34m=\u001b[0m \u001b[0mNIM\u001b[0m\u001b[0;34m\u001b[0m\u001b[0;34m\u001b[0m\u001b[0m\n\u001b[0m",
            "\u001b[0;31mNameError\u001b[0m: name 'NIM' is not defined"
          ]
        }
      ]
    },
    {
      "cell_type": "markdown",
      "source": [
        "Kenapa harus memakai `self`?\n",
        "* Aturan dari Python.\n",
        "* Jika tidak memakai `self` akan menjadi atribut kelas.\n",
        "* Lebih umum digunakan supaya dapat membuat atribut dan method yang ***instance-specific*** (berbeda setiap objek)"
      ],
      "metadata": {
        "id": "gmJLA3mOz46C"
      }
    },
    {
      "cell_type": "code",
      "source": [
        "# 1. instance attribute (__init__)\n",
        "class MyClass1:\n",
        "    def __init__(self, attr1, attr2):\n",
        "        self.attr1 = attr1\n",
        "        self.attr2 = attr2\n",
        "\n",
        "    def some_method(self, nama):\n",
        "        # Use self to access the attributes of the instance\n",
        "        print(f'attr1: {self.attr1}, attr2: {self.attr2}, nama : {nama}')\n"
      ],
      "metadata": {
        "id": "60eryRAPz_fv"
      },
      "execution_count": null,
      "outputs": []
    },
    {
      "cell_type": "code",
      "source": [
        "# 2. class attribute\n",
        "class MyClass2:\n",
        "    attr1 = 1\n",
        "    attr2 = 2\n",
        "\n",
        "    def __init__(self, atr1, atr2):\n",
        "        MyClass2.attr1 = atr1\n",
        "        MyClass2.attr2 = atr2\n",
        "\n",
        "    def some_method(self):\n",
        "        print(f'attr1: {MyClass2.attr1}, attr2: {MyClass2.attr2}')"
      ],
      "metadata": {
        "id": "-1lfyT6q0Aze"
      },
      "execution_count": null,
      "outputs": []
    },
    {
      "cell_type": "markdown",
      "source": [
        "#### Method\n",
        "- Fungsi yang dapat bekerja hanya di dalam kelas\n",
        "- Manipulasi atau proses pada atribut data\n",
        "- Menggunakan keyword self pada pembuatannya"
      ],
      "metadata": {
        "id": "sBwJnbT4z81h"
      }
    },
    {
      "cell_type": "code",
      "source": [
        "class Lingkaran:\n",
        "    PHI = 3.14\n",
        "    def __init__(self, radius):\n",
        "        self.radius = radius\n",
        "        self.diameter = 2*radius\n",
        "\n",
        "    def keliling(self):\n",
        "        keliling = self.PHI * self.diameter\n",
        "        return keliling\n",
        "\n",
        "    def luas(self):\n",
        "        luas = self.PHI * self.radius ** 2\n",
        "        return luas"
      ],
      "metadata": {
        "id": "baSJP7XH0Inl"
      },
      "execution_count": null,
      "outputs": []
    },
    {
      "cell_type": "code",
      "source": [
        "lingk1 = Lingkaran(7)\n",
        "kel_ = lingk1.keliling()\n",
        "luas_ = lingk1.luas()\n",
        "print(kel_, luas_)"
      ],
      "metadata": {
        "colab": {
          "base_uri": "https://localhost:8080/"
        },
        "id": "Ug78A5kE0LYO",
        "outputId": "1b5c72f5-2f55-4629-d9b2-9007795d25c2"
      },
      "execution_count": null,
      "outputs": [
        {
          "output_type": "stream",
          "name": "stdout",
          "text": [
            "43.96 153.86\n"
          ]
        }
      ]
    },
    {
      "cell_type": "markdown",
      "source": [
        "### $\\text{2. Inheritance}$\n",
        "\n",
        "Inheritance merupakan konsep dalam OOP yang memungkinkan pembuatan suatu kelas (*child*) didasarkan pada kelas yang sudah ada (*parent*) sehingga **mewarisi semua method dan atributnya**.\n",
        "- Dalam hierarki terdapat 2 komponen utama, yaitu **parent class** dan **child class**.\n",
        "- Dalam membuat kelas tersebut tidak berbeda dengan membuat kelas pada umumnya.\n",
        "\n",
        "\n",
        "![image.png](data:image/png;base64,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)"
      ],
      "metadata": {
        "id": "kqC-2_Rp0Psu"
      }
    },
    {
      "cell_type": "markdown",
      "source": [
        "##### **Inheritance Sederhana**\n",
        "1. Membuat *parent class*\n",
        "2. Membuat *child class* dengan isi cell ***pass***"
      ],
      "metadata": {
        "id": "cXpsyhYa0cdG"
      }
    },
    {
      "cell_type": "code",
      "source": [
        "# Parent Class\n",
        "class Binatang():\n",
        "    def __init__(self,nama,umur):\n",
        "        self.nama = nama\n",
        "        self.umur = umur\n",
        "    def suara(self):\n",
        "        print('bersuara')\n",
        "\n",
        "# Child Class\n",
        "class Anjing(Binatang):    # Child class (subclass) of Binatang\n",
        "    pass\n",
        "\n",
        "# Child Class\n",
        "class Kucing(Binatang):    # Child class (subclass) of Binatang\n",
        "    pass"
      ],
      "metadata": {
        "id": "TEgh32JD0bit"
      },
      "execution_count": null,
      "outputs": []
    },
    {
      "cell_type": "code",
      "source": [
        "binatang1 = Anjing('Simba', 3)\n",
        "binatang1.nama"
      ],
      "metadata": {
        "colab": {
          "base_uri": "https://localhost:8080/",
          "height": 35
        },
        "id": "FQV5gsbs0gY3",
        "outputId": "85d668b5-3a4e-4a39-ab9c-d9d0fa93f4e3"
      },
      "execution_count": null,
      "outputs": [
        {
          "output_type": "execute_result",
          "data": {
            "text/plain": [
              "'Simba'"
            ],
            "application/vnd.google.colaboratory.intrinsic+json": {
              "type": "string"
            }
          },
          "metadata": {},
          "execution_count": 7
        }
      ]
    },
    {
      "cell_type": "markdown",
      "source": [
        "##### **Inheritance dengan Tambahan Atribut dan Method**\n",
        "1. Membuat *parent class*\n",
        "2. Membuat *child class* dengan method `__init__()`\n",
        "3. Memanggil method **`__init__()` parent class** di dalam method **`__init__()` child class**"
      ],
      "metadata": {
        "id": "TENy3f9l0i0w"
      }
    },
    {
      "cell_type": "markdown",
      "source": [
        "**Override**\n",
        "- Terjadi ketika terdapat atribut/method yang sama pada child class\n",
        "- Atribut pada child class akan menimpa (override) atribut dari parent class\n",
        "\n",
        "Contoh:\n",
        "- Ketika kita menambahkan fungsi `__init__()`, **child class** tidak akan lagi mewarisi fungsi `__init__()` dari **parent class**\n",
        "- Untuk tetap menyimpan pewarisan dari fungsi `__init__()` **parent** maka perlu dilakukan pemanggilan fungsi `__init__()` pada **parent**"
      ],
      "metadata": {
        "id": "JGKyzJ-X0nNm"
      }
    },
    {
      "cell_type": "code",
      "source": [
        "# Parent Class\n",
        "class Binatang:\n",
        "  hewan = 'darat'\n",
        "  def __init__(self, nama):\n",
        "        self.nama = nama\n",
        "\n",
        "  def suara(self):\n",
        "        print('bersuara')\n",
        "\n",
        "# Child Class\n",
        "class Kucing(Binatang):\n",
        "  def __init__(self, nama, umur):\n",
        "        Binatang.__init__(self, nama)   # Menggunakan nama kelas, ada atribut self yang diberikan ke parent\n",
        "        self.umur = umur                # Atribut baru\n",
        "  def suara(self):\n",
        "        print('meong')"
      ],
      "metadata": {
        "id": "_IU0nty10t72"
      },
      "execution_count": null,
      "outputs": []
    },
    {
      "cell_type": "code",
      "source": [
        "kucing1 = Kucing('kitty', 2)\n",
        "kucing1.hewan"
      ],
      "metadata": {
        "colab": {
          "base_uri": "https://localhost:8080/",
          "height": 35
        },
        "id": "336LFOhf0w_z",
        "outputId": "a8474d8e-b043-4ed0-e5eb-4f861f6735a7"
      },
      "execution_count": null,
      "outputs": [
        {
          "output_type": "execute_result",
          "data": {
            "text/plain": [
              "'darat'"
            ],
            "application/vnd.google.colaboratory.intrinsic+json": {
              "type": "string"
            }
          },
          "metadata": {},
          "execution_count": 9
        }
      ]
    },
    {
      "cell_type": "markdown",
      "source": [
        "##### **Inheritance dengan `super()`**\n",
        "1. Membuat *parent class*\n",
        "2. Membuat *child class* dengan method `__init__()`\n",
        "3. Memanggil method **`__init__()` parent class** di dalam method **`__init__()` child class** menggunakan super()"
      ],
      "metadata": {
        "id": "s0JDgwEn00TJ"
      }
    },
    {
      "cell_type": "code",
      "source": [
        "class Kelinci(Binatang):\n",
        "    def __init__(self, nama, umur):\n",
        "        super().__init__(nama)    # Memanggil __init__ menggunakan fungsi super(), tidak perlu self\n",
        "        self.umur = umur"
      ],
      "metadata": {
        "id": "7cAk-uLw01Rm"
      },
      "execution_count": null,
      "outputs": []
    },
    {
      "cell_type": "code",
      "source": [
        "kelinci1 = Kelinci('alex', 2)\n",
        "kelinci1.umur"
      ],
      "metadata": {
        "colab": {
          "base_uri": "https://localhost:8080/"
        },
        "id": "GkrxYg5s032b",
        "outputId": "179053d7-634f-4501-d4a6-f8646f7d5564"
      },
      "execution_count": null,
      "outputs": [
        {
          "output_type": "execute_result",
          "data": {
            "text/plain": [
              "2"
            ]
          },
          "metadata": {},
          "execution_count": 11
        }
      ]
    },
    {
      "cell_type": "markdown",
      "source": [
        "## $\\text{B. Quizz Pertemuan ke-1}$"
      ],
      "metadata": {
        "id": "_cDOgr2WK20Y"
      }
    },
    {
      "cell_type": "markdown",
      "source": [
        "### $\\text{Soal 1}$\n",
        "\n",
        "\n",
        "Buatlah class bernama `Number` dengan memiliki beberapa method, yaitu: <br>\n",
        "\n",
        "\n",
        "* `isPositive()` <br>\n",
        "Method untuk mengecek apakah sebuah angka merupakan bilangan positif/bukan\n",
        "* `isOdd()` <br>\n",
        "Method untuk mengecek apakah sebuah angka merupakan bilangan ganjil/genap\n",
        "\n",
        "\n",
        "Asumsikan bahwa class `Number` hanya menerima instance `n` berupa bilangan bulat."
      ],
      "metadata": {
        "id": "Brc4pnNyLR1S"
      }
    },
    {
      "cell_type": "code",
      "source": [],
      "metadata": {
        "id": "xdaBNUp2Qt2b"
      },
      "execution_count": null,
      "outputs": []
    },
    {
      "cell_type": "markdown",
      "source": [
        "### $\\text{Soal 2}$\n",
        "\n",
        "Buatlah class `Member` dengan atribut instance `nama`, `saldo`, dan `role` yang otomatis terisi sebagai **Member**. Pada class `Member` terdiri dari beberapa method, yaitu:\n",
        "\n",
        "* `top_up(member, amount)` <br>\n",
        "Akan menampilkan pesan \"Silahkan hubungi admin untuk melakukan top-up\"\n",
        "* `use_saldo(amount)` <br>\n",
        "Mengurangi saldo sebesar amount jika saldo tidak kurang dari amount yang dimasukkan\n",
        "* `status` <br>\n",
        "Menampilkan status Membership, yang memuat nama, saldo, dan role\n"
      ],
      "metadata": {
        "id": "UO5mUMtNLYxS"
      }
    },
    {
      "cell_type": "markdown",
      "source": [
        "**Contoh**\n",
        "\n",
        "```\n",
        "Input:\n",
        "Budi = Member('Budi Ardianto', 100000)\n",
        "---------------------------------------\n",
        "Budi.top_up(Budi, 100)\n",
        "Output: Silahkan hubungi admin untuk melakukan top-up\n",
        "---------------------------------------\n",
        "Budi.use_saldo(100)\n",
        "Output: Saldo berhasil digunakan, sisa saldo Anda: 99900\n",
        "---------------------------------------\n",
        "Budi.use_saldo(99999999)\n",
        "Output: Saldo Anda tidak cukup\n",
        "---------------------------------------\n",
        "Budi.status()\n",
        "Output:\n",
        "=== Status Membership ===\n",
        "Nama\t: Budi Ardianto\n",
        "Saldo\t: 99900\n",
        "Status\t: Member\n",
        "\n",
        "```"
      ],
      "metadata": {
        "id": "L6zcVunF4Hbz"
      }
    },
    {
      "cell_type": "code",
      "source": [],
      "metadata": {
        "id": "3VsQopWRYzrD"
      },
      "execution_count": null,
      "outputs": []
    },
    {
      "cell_type": "markdown",
      "source": [
        "### $\\text{Soal 3}$\n",
        "\n",
        "Perhatikan soal berikut:\n",
        "\n",
        "Buatlah suatu program rekening bank yang didalamnya memiliki beberapa method seperti saldo, menabung, dan menarik uang.\n",
        "\n",
        "Catatan : Jika rekeningnya kurang maka saldo tidak bisa ditarik\n"
      ],
      "metadata": {
        "id": "fPGeZK6pLb6m"
      }
    },
    {
      "cell_type": "code",
      "source": [],
      "metadata": {
        "id": "c4al06c6aaiY"
      },
      "execution_count": null,
      "outputs": []
    },
    {
      "cell_type": "markdown",
      "source": [
        "## $\\text{C. Quizz Pertemuan ke-2}$"
      ],
      "metadata": {
        "id": "mvzg5NrjMm5n"
      }
    },
    {
      "cell_type": "markdown",
      "source": [
        "### $\\text{Soal 1}$\n",
        "\n"
      ],
      "metadata": {
        "id": "WWSS_mr5G05S"
      }
    },
    {
      "cell_type": "markdown",
      "source": [
        "### $\\text{Soal 2}$\n"
      ],
      "metadata": {
        "id": "IIn17APqG0q9"
      }
    },
    {
      "cell_type": "markdown",
      "source": [
        "### $\\text{Soal 3}$\n"
      ],
      "metadata": {
        "id": "o_6bwIcdG0bl"
      }
    },
    {
      "cell_type": "markdown",
      "source": [
        "## $\\text{D. Quizz Pertemuan ke-3}$"
      ],
      "metadata": {
        "id": "PFxe2AFwMo4K"
      }
    },
    {
      "cell_type": "markdown",
      "source": [
        "### $\\text{Soal 1}$\n"
      ],
      "metadata": {
        "id": "iK-x5bEf0WBo"
      }
    },
    {
      "cell_type": "markdown",
      "source": [
        "### $\\text{Soal 2}$\n"
      ],
      "metadata": {
        "id": "CGgVAyxi0YDh"
      }
    },
    {
      "cell_type": "markdown",
      "source": [
        "### $\\text{Soal 3}$\n"
      ],
      "metadata": {
        "id": "49tOQFQi0Zgb"
      }
    },
    {
      "cell_type": "markdown",
      "source": [
        "---\n",
        "# $\\text{Feedback Asistensi}$\n",
        "Terima Kasih telah mengikuti sesi asistensi hari ini! 😀\n",
        "\n",
        "Jangan lupa untuk mengisi feedback juga yaa, link feedback dapat diakses di\n",
        "[sini](https://bit.ly/FeedbackAsistensiSDA-Mei23)\n",
        "- Kelas = Python\n",
        "- Pekan = 1"
      ],
      "metadata": {
        "id": "WO8k6aPnNjH3"
      }
    }
  ]
}