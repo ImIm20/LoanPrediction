{
  "metadata": {
    "kernelspec": {
      "language": "python",
      "display_name": "Python 3",
      "name": "python3"
    },
    "language_info": {
      "name": "python",
      "version": "3.7.12",
      "mimetype": "text/x-python",
      "codemirror_mode": {
        "name": "ipython",
        "version": 3
      },
      "pygments_lexer": "ipython3",
      "nbconvert_exporter": "python",
      "file_extension": ".py"
    },
    "colab": {
      "name": "loan-prediction.ipynb",
      "provenance": []
    }
  },
  "nbformat_minor": 0,
  "nbformat": 4,
  "cells": [
    {
      "cell_type": "code",
      "source": [
        "import tensorflow as tf\n",
        "from tensorflow import keras\n",
        "from tensorflow.keras.models import Sequential\n",
        "from tensorflow.keras.layers import Input, Dense, Activation, Dropout\n",
        "import matplotlib.pyplot as plt\n",
        "%matplotlib inline\n",
        "import seaborn as sns\n",
        "import numpy as np # linear algebra\n",
        "import pandas as pd # data processing, CSV file I/O (e.g. pd.read_csv)"
      ],
      "metadata": {
        "_uuid": "8f2839f25d086af736a60e9eeb907d3b93b6e0e5",
        "_cell_guid": "b1076dfc-b9ad-4769-8c92-a6c4dae69d19",
        "execution": {
          "iopub.status.busy": "2022-08-10T11:25:20.096149Z",
          "iopub.execute_input": "2022-08-10T11:25:20.097872Z",
          "iopub.status.idle": "2022-08-10T11:25:20.840914Z",
          "shell.execute_reply.started": "2022-08-10T11:25:20.097479Z",
          "shell.execute_reply": "2022-08-10T11:25:20.839582Z"
        },
        "trusted": true,
        "id": "dBEoyNuyukUr"
      },
      "execution_count": 1,
      "outputs": []
    },
    {
      "cell_type": "markdown",
      "source": [
        "# data loading"
      ],
      "metadata": {
        "id": "LDj3mFFYukVJ"
      }
    },
    {
      "cell_type": "code",
      "source": [
        "data = pd.read_csv(\"/content/Training Data.csv\")\n",
        "data"
      ],
      "metadata": {
        "execution": {
          "iopub.status.busy": "2022-08-10T11:32:10.045077Z",
          "iopub.execute_input": "2022-08-10T11:32:10.046418Z",
          "iopub.status.idle": "2022-08-10T11:32:10.474680Z",
          "shell.execute_reply.started": "2022-08-10T11:32:10.046360Z",
          "shell.execute_reply": "2022-08-10T11:32:10.473475Z"
        },
        "trusted": true,
        "colab": {
          "base_uri": "https://localhost:8080/",
          "height": 487
        },
        "id": "aX5dF_HFukVY",
        "outputId": "460753d4-d713-415b-9ae9-3713b985bfbf"
      },
      "execution_count": 3,
      "outputs": [
        {
          "output_type": "execute_result",
          "data": {
            "text/plain": [
              "            Id   Income  Age  Experience Married/Single House_Ownership  \\\n",
              "0            1  1303834   23           3         single          rented   \n",
              "1            2  7574516   40          10         single          rented   \n",
              "2            3  3991815   66           4        married          rented   \n",
              "3            4  6256451   41           2         single          rented   \n",
              "4            5  5768871   47          11         single          rented   \n",
              "...        ...      ...  ...         ...            ...             ...   \n",
              "251995  251996  8154883   43          13         single          rented   \n",
              "251996  251997  2843572   26          10         single          rented   \n",
              "251997  251998  4522448   46           7         single          rented   \n",
              "251998  251999  6507128   45           0         single          rented   \n",
              "251999  252000  9070230   70          17         single          rented   \n",
              "\n",
              "       Car_Ownership           Profession                 CITY  \\\n",
              "0                 no  Mechanical_engineer                 Rewa   \n",
              "1                 no   Software_Developer             Parbhani   \n",
              "2                 no     Technical_writer            Alappuzha   \n",
              "3                yes   Software_Developer          Bhubaneswar   \n",
              "4                 no        Civil_servant  Tiruchirappalli[10]   \n",
              "...              ...                  ...                  ...   \n",
              "251995            no              Surgeon              Kolkata   \n",
              "251996            no         Army_officer                 Rewa   \n",
              "251997            no      Design_Engineer      Kalyan-Dombivli   \n",
              "251998            no     Graphic_Designer          Pondicherry   \n",
              "251999            no         Statistician                Avadi   \n",
              "\n",
              "                 STATE  CURRENT_JOB_YRS  CURRENT_HOUSE_YRS  Risk_Flag  \n",
              "0       Madhya_Pradesh                3                 13          0  \n",
              "1          Maharashtra                9                 13          0  \n",
              "2               Kerala                4                 10          0  \n",
              "3               Odisha                2                 12          1  \n",
              "4           Tamil_Nadu                3                 14          1  \n",
              "...                ...              ...                ...        ...  \n",
              "251995     West_Bengal                6                 11          0  \n",
              "251996  Madhya_Pradesh                6                 11          0  \n",
              "251997     Maharashtra                7                 12          0  \n",
              "251998      Puducherry                0                 10          0  \n",
              "251999      Tamil_Nadu                7                 11          0  \n",
              "\n",
              "[252000 rows x 13 columns]"
            ],
            "text/html": [
              "\n",
              "  <div id=\"df-019e2ffd-9035-4686-bbb7-97a9117dbdc4\">\n",
              "    <div class=\"colab-df-container\">\n",
              "      <div>\n",
              "<style scoped>\n",
              "    .dataframe tbody tr th:only-of-type {\n",
              "        vertical-align: middle;\n",
              "    }\n",
              "\n",
              "    .dataframe tbody tr th {\n",
              "        vertical-align: top;\n",
              "    }\n",
              "\n",
              "    .dataframe thead th {\n",
              "        text-align: right;\n",
              "    }\n",
              "</style>\n",
              "<table border=\"1\" class=\"dataframe\">\n",
              "  <thead>\n",
              "    <tr style=\"text-align: right;\">\n",
              "      <th></th>\n",
              "      <th>Id</th>\n",
              "      <th>Income</th>\n",
              "      <th>Age</th>\n",
              "      <th>Experience</th>\n",
              "      <th>Married/Single</th>\n",
              "      <th>House_Ownership</th>\n",
              "      <th>Car_Ownership</th>\n",
              "      <th>Profession</th>\n",
              "      <th>CITY</th>\n",
              "      <th>STATE</th>\n",
              "      <th>CURRENT_JOB_YRS</th>\n",
              "      <th>CURRENT_HOUSE_YRS</th>\n",
              "      <th>Risk_Flag</th>\n",
              "    </tr>\n",
              "  </thead>\n",
              "  <tbody>\n",
              "    <tr>\n",
              "      <th>0</th>\n",
              "      <td>1</td>\n",
              "      <td>1303834</td>\n",
              "      <td>23</td>\n",
              "      <td>3</td>\n",
              "      <td>single</td>\n",
              "      <td>rented</td>\n",
              "      <td>no</td>\n",
              "      <td>Mechanical_engineer</td>\n",
              "      <td>Rewa</td>\n",
              "      <td>Madhya_Pradesh</td>\n",
              "      <td>3</td>\n",
              "      <td>13</td>\n",
              "      <td>0</td>\n",
              "    </tr>\n",
              "    <tr>\n",
              "      <th>1</th>\n",
              "      <td>2</td>\n",
              "      <td>7574516</td>\n",
              "      <td>40</td>\n",
              "      <td>10</td>\n",
              "      <td>single</td>\n",
              "      <td>rented</td>\n",
              "      <td>no</td>\n",
              "      <td>Software_Developer</td>\n",
              "      <td>Parbhani</td>\n",
              "      <td>Maharashtra</td>\n",
              "      <td>9</td>\n",
              "      <td>13</td>\n",
              "      <td>0</td>\n",
              "    </tr>\n",
              "    <tr>\n",
              "      <th>2</th>\n",
              "      <td>3</td>\n",
              "      <td>3991815</td>\n",
              "      <td>66</td>\n",
              "      <td>4</td>\n",
              "      <td>married</td>\n",
              "      <td>rented</td>\n",
              "      <td>no</td>\n",
              "      <td>Technical_writer</td>\n",
              "      <td>Alappuzha</td>\n",
              "      <td>Kerala</td>\n",
              "      <td>4</td>\n",
              "      <td>10</td>\n",
              "      <td>0</td>\n",
              "    </tr>\n",
              "    <tr>\n",
              "      <th>3</th>\n",
              "      <td>4</td>\n",
              "      <td>6256451</td>\n",
              "      <td>41</td>\n",
              "      <td>2</td>\n",
              "      <td>single</td>\n",
              "      <td>rented</td>\n",
              "      <td>yes</td>\n",
              "      <td>Software_Developer</td>\n",
              "      <td>Bhubaneswar</td>\n",
              "      <td>Odisha</td>\n",
              "      <td>2</td>\n",
              "      <td>12</td>\n",
              "      <td>1</td>\n",
              "    </tr>\n",
              "    <tr>\n",
              "      <th>4</th>\n",
              "      <td>5</td>\n",
              "      <td>5768871</td>\n",
              "      <td>47</td>\n",
              "      <td>11</td>\n",
              "      <td>single</td>\n",
              "      <td>rented</td>\n",
              "      <td>no</td>\n",
              "      <td>Civil_servant</td>\n",
              "      <td>Tiruchirappalli[10]</td>\n",
              "      <td>Tamil_Nadu</td>\n",
              "      <td>3</td>\n",
              "      <td>14</td>\n",
              "      <td>1</td>\n",
              "    </tr>\n",
              "    <tr>\n",
              "      <th>...</th>\n",
              "      <td>...</td>\n",
              "      <td>...</td>\n",
              "      <td>...</td>\n",
              "      <td>...</td>\n",
              "      <td>...</td>\n",
              "      <td>...</td>\n",
              "      <td>...</td>\n",
              "      <td>...</td>\n",
              "      <td>...</td>\n",
              "      <td>...</td>\n",
              "      <td>...</td>\n",
              "      <td>...</td>\n",
              "      <td>...</td>\n",
              "    </tr>\n",
              "    <tr>\n",
              "      <th>251995</th>\n",
              "      <td>251996</td>\n",
              "      <td>8154883</td>\n",
              "      <td>43</td>\n",
              "      <td>13</td>\n",
              "      <td>single</td>\n",
              "      <td>rented</td>\n",
              "      <td>no</td>\n",
              "      <td>Surgeon</td>\n",
              "      <td>Kolkata</td>\n",
              "      <td>West_Bengal</td>\n",
              "      <td>6</td>\n",
              "      <td>11</td>\n",
              "      <td>0</td>\n",
              "    </tr>\n",
              "    <tr>\n",
              "      <th>251996</th>\n",
              "      <td>251997</td>\n",
              "      <td>2843572</td>\n",
              "      <td>26</td>\n",
              "      <td>10</td>\n",
              "      <td>single</td>\n",
              "      <td>rented</td>\n",
              "      <td>no</td>\n",
              "      <td>Army_officer</td>\n",
              "      <td>Rewa</td>\n",
              "      <td>Madhya_Pradesh</td>\n",
              "      <td>6</td>\n",
              "      <td>11</td>\n",
              "      <td>0</td>\n",
              "    </tr>\n",
              "    <tr>\n",
              "      <th>251997</th>\n",
              "      <td>251998</td>\n",
              "      <td>4522448</td>\n",
              "      <td>46</td>\n",
              "      <td>7</td>\n",
              "      <td>single</td>\n",
              "      <td>rented</td>\n",
              "      <td>no</td>\n",
              "      <td>Design_Engineer</td>\n",
              "      <td>Kalyan-Dombivli</td>\n",
              "      <td>Maharashtra</td>\n",
              "      <td>7</td>\n",
              "      <td>12</td>\n",
              "      <td>0</td>\n",
              "    </tr>\n",
              "    <tr>\n",
              "      <th>251998</th>\n",
              "      <td>251999</td>\n",
              "      <td>6507128</td>\n",
              "      <td>45</td>\n",
              "      <td>0</td>\n",
              "      <td>single</td>\n",
              "      <td>rented</td>\n",
              "      <td>no</td>\n",
              "      <td>Graphic_Designer</td>\n",
              "      <td>Pondicherry</td>\n",
              "      <td>Puducherry</td>\n",
              "      <td>0</td>\n",
              "      <td>10</td>\n",
              "      <td>0</td>\n",
              "    </tr>\n",
              "    <tr>\n",
              "      <th>251999</th>\n",
              "      <td>252000</td>\n",
              "      <td>9070230</td>\n",
              "      <td>70</td>\n",
              "      <td>17</td>\n",
              "      <td>single</td>\n",
              "      <td>rented</td>\n",
              "      <td>no</td>\n",
              "      <td>Statistician</td>\n",
              "      <td>Avadi</td>\n",
              "      <td>Tamil_Nadu</td>\n",
              "      <td>7</td>\n",
              "      <td>11</td>\n",
              "      <td>0</td>\n",
              "    </tr>\n",
              "  </tbody>\n",
              "</table>\n",
              "<p>252000 rows × 13 columns</p>\n",
              "</div>\n",
              "      <button class=\"colab-df-convert\" onclick=\"convertToInteractive('df-019e2ffd-9035-4686-bbb7-97a9117dbdc4')\"\n",
              "              title=\"Convert this dataframe to an interactive table.\"\n",
              "              style=\"display:none;\">\n",
              "        \n",
              "  <svg xmlns=\"http://www.w3.org/2000/svg\" height=\"24px\"viewBox=\"0 0 24 24\"\n",
              "       width=\"24px\">\n",
              "    <path d=\"M0 0h24v24H0V0z\" fill=\"none\"/>\n",
              "    <path d=\"M18.56 5.44l.94 2.06.94-2.06 2.06-.94-2.06-.94-.94-2.06-.94 2.06-2.06.94zm-11 1L8.5 8.5l.94-2.06 2.06-.94-2.06-.94L8.5 2.5l-.94 2.06-2.06.94zm10 10l.94 2.06.94-2.06 2.06-.94-2.06-.94-.94-2.06-.94 2.06-2.06.94z\"/><path d=\"M17.41 7.96l-1.37-1.37c-.4-.4-.92-.59-1.43-.59-.52 0-1.04.2-1.43.59L10.3 9.45l-7.72 7.72c-.78.78-.78 2.05 0 2.83L4 21.41c.39.39.9.59 1.41.59.51 0 1.02-.2 1.41-.59l7.78-7.78 2.81-2.81c.8-.78.8-2.07 0-2.86zM5.41 20L4 18.59l7.72-7.72 1.47 1.35L5.41 20z\"/>\n",
              "  </svg>\n",
              "      </button>\n",
              "      \n",
              "  <style>\n",
              "    .colab-df-container {\n",
              "      display:flex;\n",
              "      flex-wrap:wrap;\n",
              "      gap: 12px;\n",
              "    }\n",
              "\n",
              "    .colab-df-convert {\n",
              "      background-color: #E8F0FE;\n",
              "      border: none;\n",
              "      border-radius: 50%;\n",
              "      cursor: pointer;\n",
              "      display: none;\n",
              "      fill: #1967D2;\n",
              "      height: 32px;\n",
              "      padding: 0 0 0 0;\n",
              "      width: 32px;\n",
              "    }\n",
              "\n",
              "    .colab-df-convert:hover {\n",
              "      background-color: #E2EBFA;\n",
              "      box-shadow: 0px 1px 2px rgba(60, 64, 67, 0.3), 0px 1px 3px 1px rgba(60, 64, 67, 0.15);\n",
              "      fill: #174EA6;\n",
              "    }\n",
              "\n",
              "    [theme=dark] .colab-df-convert {\n",
              "      background-color: #3B4455;\n",
              "      fill: #D2E3FC;\n",
              "    }\n",
              "\n",
              "    [theme=dark] .colab-df-convert:hover {\n",
              "      background-color: #434B5C;\n",
              "      box-shadow: 0px 1px 3px 1px rgba(0, 0, 0, 0.15);\n",
              "      filter: drop-shadow(0px 1px 2px rgba(0, 0, 0, 0.3));\n",
              "      fill: #FFFFFF;\n",
              "    }\n",
              "  </style>\n",
              "\n",
              "      <script>\n",
              "        const buttonEl =\n",
              "          document.querySelector('#df-019e2ffd-9035-4686-bbb7-97a9117dbdc4 button.colab-df-convert');\n",
              "        buttonEl.style.display =\n",
              "          google.colab.kernel.accessAllowed ? 'block' : 'none';\n",
              "\n",
              "        async function convertToInteractive(key) {\n",
              "          const element = document.querySelector('#df-019e2ffd-9035-4686-bbb7-97a9117dbdc4');\n",
              "          const dataTable =\n",
              "            await google.colab.kernel.invokeFunction('convertToInteractive',\n",
              "                                                     [key], {});\n",
              "          if (!dataTable) return;\n",
              "\n",
              "          const docLinkHtml = 'Like what you see? Visit the ' +\n",
              "            '<a target=\"_blank\" href=https://colab.research.google.com/notebooks/data_table.ipynb>data table notebook</a>'\n",
              "            + ' to learn more about interactive tables.';\n",
              "          element.innerHTML = '';\n",
              "          dataTable['output_type'] = 'display_data';\n",
              "          await google.colab.output.renderOutput(dataTable, element);\n",
              "          const docLink = document.createElement('div');\n",
              "          docLink.innerHTML = docLinkHtml;\n",
              "          element.appendChild(docLink);\n",
              "        }\n",
              "      </script>\n",
              "    </div>\n",
              "  </div>\n",
              "  "
            ]
          },
          "metadata": {},
          "execution_count": 3
        }
      ]
    },
    {
      "cell_type": "markdown",
      "source": [
        "# EDA - Deskripsi Variabel\n",
        "* income: Income of the user\n",
        "* age: Age of the user\n",
        "* experience: Professional experience of the user in years\n",
        "* profession: Profession\n",
        "* married: Whether married or single\n",
        "* house_ownership: Owned or rented or neither\n",
        "* car_ownership: Does the person own a car\n",
        "* currentjobyears: Years of experience in the current job\n",
        "* currenthouseyears: Number of years in the current residence\n",
        "* city: City of residence\n",
        "* state: State of residence\n",
        "* risk_flag: Defaulted on a loan -> target feature"
      ],
      "metadata": {
        "id": "Ir8pyxmOukVc"
      }
    },
    {
      "cell_type": "code",
      "source": [
        "data.info()\n",
        "# dari hasil di bawah ini, preprocessing data perlu dilakukan untuk mengubah tipe data\n",
        "# object agar bertipe numerik .\n",
        "# tidak ada missing value pada semua variabel"
      ],
      "metadata": {
        "execution": {
          "iopub.status.busy": "2022-08-10T11:25:38.436794Z",
          "iopub.execute_input": "2022-08-10T11:25:38.437239Z",
          "iopub.status.idle": "2022-08-10T11:25:38.520873Z",
          "shell.execute_reply.started": "2022-08-10T11:25:38.437204Z",
          "shell.execute_reply": "2022-08-10T11:25:38.519657Z"
        },
        "trusted": true,
        "colab": {
          "base_uri": "https://localhost:8080/"
        },
        "id": "grfmi9l2ukVk",
        "outputId": "7581778b-6e98-4df0-d631-48889b6e2610"
      },
      "execution_count": 4,
      "outputs": [
        {
          "output_type": "stream",
          "name": "stdout",
          "text": [
            "<class 'pandas.core.frame.DataFrame'>\n",
            "RangeIndex: 252000 entries, 0 to 251999\n",
            "Data columns (total 13 columns):\n",
            " #   Column             Non-Null Count   Dtype \n",
            "---  ------             --------------   ----- \n",
            " 0   Id                 252000 non-null  int64 \n",
            " 1   Income             252000 non-null  int64 \n",
            " 2   Age                252000 non-null  int64 \n",
            " 3   Experience         252000 non-null  int64 \n",
            " 4   Married/Single     252000 non-null  object\n",
            " 5   House_Ownership    252000 non-null  object\n",
            " 6   Car_Ownership      252000 non-null  object\n",
            " 7   Profession         252000 non-null  object\n",
            " 8   CITY               252000 non-null  object\n",
            " 9   STATE              252000 non-null  object\n",
            " 10  CURRENT_JOB_YRS    252000 non-null  int64 \n",
            " 11  CURRENT_HOUSE_YRS  252000 non-null  int64 \n",
            " 12  Risk_Flag          252000 non-null  int64 \n",
            "dtypes: int64(7), object(6)\n",
            "memory usage: 25.0+ MB\n"
          ]
        }
      ]
    },
    {
      "cell_type": "code",
      "source": [
        "data.describe()\n",
        "# dilihat dari tabel di bawah, bisa disimpulkan bahwa tidak ada missing/error value pada\n",
        "# numerical features. Nilai minimum pada experience dan CURRENT_JOB_YRS memungkinkan bernilai 0 . \n",
        "# sehingga dapat dilanjut pada proses selanjutnya"
      ],
      "metadata": {
        "execution": {
          "iopub.status.busy": "2022-08-10T11:25:45.308320Z",
          "iopub.execute_input": "2022-08-10T11:25:45.309182Z",
          "iopub.status.idle": "2022-08-10T11:25:45.392244Z",
          "shell.execute_reply.started": "2022-08-10T11:25:45.309137Z",
          "shell.execute_reply": "2022-08-10T11:25:45.390994Z"
        },
        "trusted": true,
        "colab": {
          "base_uri": "https://localhost:8080/",
          "height": 300
        },
        "id": "95DxJgK7ukVp",
        "outputId": "81cd4d1f-79bc-4c87-fb93-a7bd08decc2a"
      },
      "execution_count": 5,
      "outputs": [
        {
          "output_type": "execute_result",
          "data": {
            "text/plain": [
              "                  Id        Income            Age     Experience  \\\n",
              "count  252000.000000  2.520000e+05  252000.000000  252000.000000   \n",
              "mean   126000.500000  4.997117e+06      49.954071      10.084437   \n",
              "std     72746.278255  2.878311e+06      17.063855       6.002590   \n",
              "min         1.000000  1.031000e+04      21.000000       0.000000   \n",
              "25%     63000.750000  2.503015e+06      35.000000       5.000000   \n",
              "50%    126000.500000  5.000694e+06      50.000000      10.000000   \n",
              "75%    189000.250000  7.477502e+06      65.000000      15.000000   \n",
              "max    252000.000000  9.999938e+06      79.000000      20.000000   \n",
              "\n",
              "       CURRENT_JOB_YRS  CURRENT_HOUSE_YRS      Risk_Flag  \n",
              "count    252000.000000      252000.000000  252000.000000  \n",
              "mean          6.333877          11.997794       0.123000  \n",
              "std           3.647053           1.399037       0.328438  \n",
              "min           0.000000          10.000000       0.000000  \n",
              "25%           3.000000          11.000000       0.000000  \n",
              "50%           6.000000          12.000000       0.000000  \n",
              "75%           9.000000          13.000000       0.000000  \n",
              "max          14.000000          14.000000       1.000000  "
            ],
            "text/html": [
              "\n",
              "  <div id=\"df-2286d574-64ab-45ff-a6a1-b3acb598fbcd\">\n",
              "    <div class=\"colab-df-container\">\n",
              "      <div>\n",
              "<style scoped>\n",
              "    .dataframe tbody tr th:only-of-type {\n",
              "        vertical-align: middle;\n",
              "    }\n",
              "\n",
              "    .dataframe tbody tr th {\n",
              "        vertical-align: top;\n",
              "    }\n",
              "\n",
              "    .dataframe thead th {\n",
              "        text-align: right;\n",
              "    }\n",
              "</style>\n",
              "<table border=\"1\" class=\"dataframe\">\n",
              "  <thead>\n",
              "    <tr style=\"text-align: right;\">\n",
              "      <th></th>\n",
              "      <th>Id</th>\n",
              "      <th>Income</th>\n",
              "      <th>Age</th>\n",
              "      <th>Experience</th>\n",
              "      <th>CURRENT_JOB_YRS</th>\n",
              "      <th>CURRENT_HOUSE_YRS</th>\n",
              "      <th>Risk_Flag</th>\n",
              "    </tr>\n",
              "  </thead>\n",
              "  <tbody>\n",
              "    <tr>\n",
              "      <th>count</th>\n",
              "      <td>252000.000000</td>\n",
              "      <td>2.520000e+05</td>\n",
              "      <td>252000.000000</td>\n",
              "      <td>252000.000000</td>\n",
              "      <td>252000.000000</td>\n",
              "      <td>252000.000000</td>\n",
              "      <td>252000.000000</td>\n",
              "    </tr>\n",
              "    <tr>\n",
              "      <th>mean</th>\n",
              "      <td>126000.500000</td>\n",
              "      <td>4.997117e+06</td>\n",
              "      <td>49.954071</td>\n",
              "      <td>10.084437</td>\n",
              "      <td>6.333877</td>\n",
              "      <td>11.997794</td>\n",
              "      <td>0.123000</td>\n",
              "    </tr>\n",
              "    <tr>\n",
              "      <th>std</th>\n",
              "      <td>72746.278255</td>\n",
              "      <td>2.878311e+06</td>\n",
              "      <td>17.063855</td>\n",
              "      <td>6.002590</td>\n",
              "      <td>3.647053</td>\n",
              "      <td>1.399037</td>\n",
              "      <td>0.328438</td>\n",
              "    </tr>\n",
              "    <tr>\n",
              "      <th>min</th>\n",
              "      <td>1.000000</td>\n",
              "      <td>1.031000e+04</td>\n",
              "      <td>21.000000</td>\n",
              "      <td>0.000000</td>\n",
              "      <td>0.000000</td>\n",
              "      <td>10.000000</td>\n",
              "      <td>0.000000</td>\n",
              "    </tr>\n",
              "    <tr>\n",
              "      <th>25%</th>\n",
              "      <td>63000.750000</td>\n",
              "      <td>2.503015e+06</td>\n",
              "      <td>35.000000</td>\n",
              "      <td>5.000000</td>\n",
              "      <td>3.000000</td>\n",
              "      <td>11.000000</td>\n",
              "      <td>0.000000</td>\n",
              "    </tr>\n",
              "    <tr>\n",
              "      <th>50%</th>\n",
              "      <td>126000.500000</td>\n",
              "      <td>5.000694e+06</td>\n",
              "      <td>50.000000</td>\n",
              "      <td>10.000000</td>\n",
              "      <td>6.000000</td>\n",
              "      <td>12.000000</td>\n",
              "      <td>0.000000</td>\n",
              "    </tr>\n",
              "    <tr>\n",
              "      <th>75%</th>\n",
              "      <td>189000.250000</td>\n",
              "      <td>7.477502e+06</td>\n",
              "      <td>65.000000</td>\n",
              "      <td>15.000000</td>\n",
              "      <td>9.000000</td>\n",
              "      <td>13.000000</td>\n",
              "      <td>0.000000</td>\n",
              "    </tr>\n",
              "    <tr>\n",
              "      <th>max</th>\n",
              "      <td>252000.000000</td>\n",
              "      <td>9.999938e+06</td>\n",
              "      <td>79.000000</td>\n",
              "      <td>20.000000</td>\n",
              "      <td>14.000000</td>\n",
              "      <td>14.000000</td>\n",
              "      <td>1.000000</td>\n",
              "    </tr>\n",
              "  </tbody>\n",
              "</table>\n",
              "</div>\n",
              "      <button class=\"colab-df-convert\" onclick=\"convertToInteractive('df-2286d574-64ab-45ff-a6a1-b3acb598fbcd')\"\n",
              "              title=\"Convert this dataframe to an interactive table.\"\n",
              "              style=\"display:none;\">\n",
              "        \n",
              "  <svg xmlns=\"http://www.w3.org/2000/svg\" height=\"24px\"viewBox=\"0 0 24 24\"\n",
              "       width=\"24px\">\n",
              "    <path d=\"M0 0h24v24H0V0z\" fill=\"none\"/>\n",
              "    <path d=\"M18.56 5.44l.94 2.06.94-2.06 2.06-.94-2.06-.94-.94-2.06-.94 2.06-2.06.94zm-11 1L8.5 8.5l.94-2.06 2.06-.94-2.06-.94L8.5 2.5l-.94 2.06-2.06.94zm10 10l.94 2.06.94-2.06 2.06-.94-2.06-.94-.94-2.06-.94 2.06-2.06.94z\"/><path d=\"M17.41 7.96l-1.37-1.37c-.4-.4-.92-.59-1.43-.59-.52 0-1.04.2-1.43.59L10.3 9.45l-7.72 7.72c-.78.78-.78 2.05 0 2.83L4 21.41c.39.39.9.59 1.41.59.51 0 1.02-.2 1.41-.59l7.78-7.78 2.81-2.81c.8-.78.8-2.07 0-2.86zM5.41 20L4 18.59l7.72-7.72 1.47 1.35L5.41 20z\"/>\n",
              "  </svg>\n",
              "      </button>\n",
              "      \n",
              "  <style>\n",
              "    .colab-df-container {\n",
              "      display:flex;\n",
              "      flex-wrap:wrap;\n",
              "      gap: 12px;\n",
              "    }\n",
              "\n",
              "    .colab-df-convert {\n",
              "      background-color: #E8F0FE;\n",
              "      border: none;\n",
              "      border-radius: 50%;\n",
              "      cursor: pointer;\n",
              "      display: none;\n",
              "      fill: #1967D2;\n",
              "      height: 32px;\n",
              "      padding: 0 0 0 0;\n",
              "      width: 32px;\n",
              "    }\n",
              "\n",
              "    .colab-df-convert:hover {\n",
              "      background-color: #E2EBFA;\n",
              "      box-shadow: 0px 1px 2px rgba(60, 64, 67, 0.3), 0px 1px 3px 1px rgba(60, 64, 67, 0.15);\n",
              "      fill: #174EA6;\n",
              "    }\n",
              "\n",
              "    [theme=dark] .colab-df-convert {\n",
              "      background-color: #3B4455;\n",
              "      fill: #D2E3FC;\n",
              "    }\n",
              "\n",
              "    [theme=dark] .colab-df-convert:hover {\n",
              "      background-color: #434B5C;\n",
              "      box-shadow: 0px 1px 3px 1px rgba(0, 0, 0, 0.15);\n",
              "      filter: drop-shadow(0px 1px 2px rgba(0, 0, 0, 0.3));\n",
              "      fill: #FFFFFF;\n",
              "    }\n",
              "  </style>\n",
              "\n",
              "      <script>\n",
              "        const buttonEl =\n",
              "          document.querySelector('#df-2286d574-64ab-45ff-a6a1-b3acb598fbcd button.colab-df-convert');\n",
              "        buttonEl.style.display =\n",
              "          google.colab.kernel.accessAllowed ? 'block' : 'none';\n",
              "\n",
              "        async function convertToInteractive(key) {\n",
              "          const element = document.querySelector('#df-2286d574-64ab-45ff-a6a1-b3acb598fbcd');\n",
              "          const dataTable =\n",
              "            await google.colab.kernel.invokeFunction('convertToInteractive',\n",
              "                                                     [key], {});\n",
              "          if (!dataTable) return;\n",
              "\n",
              "          const docLinkHtml = 'Like what you see? Visit the ' +\n",
              "            '<a target=\"_blank\" href=https://colab.research.google.com/notebooks/data_table.ipynb>data table notebook</a>'\n",
              "            + ' to learn more about interactive tables.';\n",
              "          element.innerHTML = '';\n",
              "          dataTable['output_type'] = 'display_data';\n",
              "          await google.colab.output.renderOutput(dataTable, element);\n",
              "          const docLink = document.createElement('div');\n",
              "          docLink.innerHTML = docLinkHtml;\n",
              "          element.appendChild(docLink);\n",
              "        }\n",
              "      </script>\n",
              "    </div>\n",
              "  </div>\n",
              "  "
            ]
          },
          "metadata": {},
          "execution_count": 5
        }
      ]
    },
    {
      "cell_type": "markdown",
      "source": [
        "## EDA - Memeriksa Outliers\n",
        "Deteksi outliers dilakukan dengan teknik visualisasi data (boxplot). Kemudian akan ditangani dengan teknik IQR method. IQR adalah singkatan dari Inter Quartile Range.\n",
        "\n",
        "### dari grafik dibawah dapat disimpulkan bahwa tidak ada outliers pada data"
      ],
      "metadata": {
        "id": "cRiw9kQ9ukVu"
      }
    },
    {
      "cell_type": "code",
      "source": [
        "sns.boxplot(x=data['Income'])"
      ],
      "metadata": {
        "trusted": true,
        "colab": {
          "base_uri": "https://localhost:8080/",
          "height": 297
        },
        "id": "y4pma9GwukVx",
        "outputId": "fab6a8e8-d1c4-4c68-c055-730606a53319"
      },
      "execution_count": 6,
      "outputs": [
        {
          "output_type": "execute_result",
          "data": {
            "text/plain": [
              "<matplotlib.axes._subplots.AxesSubplot at 0x7f014107ee50>"
            ]
          },
          "metadata": {},
          "execution_count": 6
        },
        {
          "output_type": "display_data",
          "data": {
            "text/plain": [
              "<Figure size 432x288 with 1 Axes>"
            ],
            "image/png": "[encoded data removed]"
          },
          "metadata": {
            "needs_background": "light"
          }
        }
      ]
    },
    {
      "cell_type": "code",
      "source": [
        "sns.boxplot(x=data['Age'])"
      ],
      "metadata": {
        "trusted": true,
        "colab": {
          "base_uri": "https://localhost:8080/",
          "height": 297
        },
        "id": "IsfB3yXWukV3",
        "outputId": "7dbb2e33-30c5-4c0e-858b-1565ba8c4d07"
      },
      "execution_count": 7,
      "outputs": [
        {
          "output_type": "execute_result",
          "data": {
            "text/plain": [
              "<matplotlib.axes._subplots.AxesSubplot at 0x7f0140ef1690>"
            ]
          },
          "metadata": {},
          "execution_count": 7
        },
        {
          "output_type": "display_data",
          "data": {
            "text/plain": [
              "<Figure size 432x288 with 1 Axes>"
            ],
            "image/png": "[encoded data removed]"
          },
          "metadata": {
            "needs_background": "light"
          }
        }
      ]
    },
    {
      "cell_type": "code",
      "source": [
        "sns.boxplot(x=data['Experience'])"
      ],
      "metadata": {
        "trusted": true,
        "colab": {
          "base_uri": "https://localhost:8080/",
          "height": 297
        },
        "id": "2f-BhZe0ukV6",
        "outputId": "ac4de19a-7ad9-4bb7-a030-73038d4fee3d"
      },
      "execution_count": 8,
      "outputs": [
        {
          "output_type": "execute_result",
          "data": {
            "text/plain": [
              "<matplotlib.axes._subplots.AxesSubplot at 0x7f0140939290>"
            ]
          },
          "metadata": {},
          "execution_count": 8
        },
        {
          "output_type": "display_data",
          "data": {
            "text/plain": [
              "<Figure size 432x288 with 1 Axes>"
            ],
            "image/png": "[encoded data removed]"
          },
          "metadata": {
            "needs_background": "light"
          }
        }
      ]
    },
    {
      "cell_type": "code",
      "source": [
        "sns.boxplot(x=data['CURRENT_JOB_YRS'])"
      ],
      "metadata": {
        "trusted": true,
        "colab": {
          "base_uri": "https://localhost:8080/",
          "height": 298
        },
        "id": "TPlJF7vRukV8",
        "outputId": "3725ba67-0af3-4ef3-9536-9199f47aee44"
      },
      "execution_count": 9,
      "outputs": [
        {
          "output_type": "execute_result",
          "data": {
            "text/plain": [
              "<matplotlib.axes._subplots.AxesSubplot at 0x7f014089e690>"
            ]
          },
          "metadata": {},
          "execution_count": 9
        },
        {
          "output_type": "display_data",
          "data": {
            "text/plain": [
              "<Figure size 432x288 with 1 Axes>"
            ],
            "image/png": "[encoded data removed]"
          },
          "metadata": {
            "needs_background": "light"
          }
        }
      ]
    },
    {
      "cell_type": "code",
      "source": [
        "sns.boxplot(x=data['CURRENT_HOUSE_YRS'])"
      ],
      "metadata": {
        "trusted": true,
        "colab": {
          "base_uri": "https://localhost:8080/",
          "height": 298
        },
        "id": "vDm-NHBVukV9",
        "outputId": "0044e876-9029-44f5-cab6-a02466088347"
      },
      "execution_count": 10,
      "outputs": [
        {
          "output_type": "execute_result",
          "data": {
            "text/plain": [
              "<matplotlib.axes._subplots.AxesSubplot at 0x7f0140826f10>"
            ]
          },
          "metadata": {},
          "execution_count": 10
        },
        {
          "output_type": "display_data",
          "data": {
            "text/plain": [
              "<Figure size 432x288 with 1 Axes>"
            ],
            "image/png": "[encoded data removed]"
          },
          "metadata": {
            "needs_background": "light"
          }
        }
      ]
    },
    {
      "cell_type": "markdown",
      "source": [
        "### Univariate Analysis\n",
        "analisis masing-masing variabel"
      ],
      "metadata": {
        "id": "J4o_TEcaukV_"
      }
    },
    {
      "cell_type": "code",
      "source": [
        "print(data.columns)"
      ],
      "metadata": {
        "trusted": true,
        "colab": {
          "base_uri": "https://localhost:8080/"
        },
        "id": "66u3JzAEukWB",
        "outputId": "29375f07-8185-49fc-d394-480f6667d28f"
      },
      "execution_count": 11,
      "outputs": [
        {
          "output_type": "stream",
          "name": "stdout",
          "text": [
            "Index(['Id', 'Income', 'Age', 'Experience', 'Married/Single',\n",
            "       'House_Ownership', 'Car_Ownership', 'Profession', 'CITY', 'STATE',\n",
            "       'CURRENT_JOB_YRS', 'CURRENT_HOUSE_YRS', 'Risk_Flag'],\n",
            "      dtype='object')\n"
          ]
        }
      ]
    },
    {
      "cell_type": "code",
      "source": [
        "num_feat = ['Income', 'Age', 'Experience', 'CURRENT_JOB_YRS', 'CURRENT_HOUSE_YRS'] #variabel dg data numerik\n",
        "cat_feat = ['Married/Single', 'House_Ownership', 'Car_Ownership',  \n",
        "            'Profession', 'CITY', 'STATE']"
      ],
      "metadata": {
        "execution": {
          "iopub.status.busy": "2022-08-10T11:32:22.366517Z",
          "iopub.execute_input": "2022-08-10T11:32:22.366946Z",
          "iopub.status.idle": "2022-08-10T11:32:22.372010Z",
          "shell.execute_reply.started": "2022-08-10T11:32:22.366908Z",
          "shell.execute_reply": "2022-08-10T11:32:22.371104Z"
        },
        "trusted": true,
        "id": "l-T4rYN-ukWC"
      },
      "execution_count": 12,
      "outputs": []
    },
    {
      "cell_type": "markdown",
      "source": [
        "### categorical features"
      ],
      "metadata": {
        "id": "p3ZtFqytukWL"
      }
    },
    {
      "cell_type": "code",
      "source": [
        "feature = cat_feat[0]\n",
        "count = data[feature].value_counts()\n",
        "percent = 100*data[feature].value_counts(normalize=True)\n",
        "df = pd.DataFrame({'jumlah sampel':count, 'persentase':percent.round(1)})\n",
        "print(df)\n",
        "count.plot(kind='bar', title=feature);\n",
        "# dari grafik dibawah menunjukkan bahwa mayoritas sample adalah single person"
      ],
      "metadata": {
        "trusted": true,
        "colab": {
          "base_uri": "https://localhost:8080/",
          "height": 366
        },
        "id": "diE-D6DVukWP",
        "outputId": "0396033e-7297-45de-c8cc-58267b8d868a"
      },
      "execution_count": 13,
      "outputs": [
        {
          "output_type": "stream",
          "name": "stdout",
          "text": [
            "         jumlah sampel  persentase\n",
            "single          226272        89.8\n",
            "married          25728        10.2\n"
          ]
        },
        {
          "output_type": "display_data",
          "data": {
            "text/plain": [
              "<Figure size 432x288 with 1 Axes>"
            ],
            "image/png": "[encoded data removed]"
          },
          "metadata": {
            "needs_background": "light"
          }
        }
      ]
    },
    {
      "cell_type": "code",
      "source": [
        "feature = cat_feat[1]\n",
        "count = data[feature].value_counts()\n",
        "percent = 100*data[feature].value_counts(normalize=True)\n",
        "df = pd.DataFrame({'jumlah sampel':count, 'persentase':percent.round(1)})\n",
        "print(df)\n",
        "count.plot(kind='bar', title=feature);\n",
        "#mayoritas sample tidak memiliki rumah sendiri"
      ],
      "metadata": {
        "trusted": true,
        "colab": {
          "base_uri": "https://localhost:8080/",
          "height": 416
        },
        "id": "fEki9Y0YukWS",
        "outputId": "4cd45305-3610-484a-8f24-9c599a08ebf6"
      },
      "execution_count": 14,
      "outputs": [
        {
          "output_type": "stream",
          "name": "stdout",
          "text": [
            "              jumlah sampel  persentase\n",
            "rented               231898        92.0\n",
            "owned                 12918         5.1\n",
            "norent_noown           7184         2.9\n"
          ]
        },
        {
          "output_type": "display_data",
          "data": {
            "text/plain": [
              "<Figure size 432x288 with 1 Axes>"
            ],
            "image/png": "[encoded data removed]"
          },
          "metadata": {
            "needs_background": "light"
          }
        }
      ]
    },
    {
      "cell_type": "code",
      "source": [
        "feature = cat_feat[2]\n",
        "count = data[feature].value_counts()\n",
        "percent = 100*data[feature].value_counts(normalize=True)\n",
        "df = pd.DataFrame({'jumlah sampel':count, 'persentase':percent.round(1)})\n",
        "print(df)\n",
        "count.plot(kind='bar', title=feature);\n",
        "# mayoritas sample tidak memiliki mobil sendiri"
      ],
      "metadata": {
        "trusted": true,
        "colab": {
          "base_uri": "https://localhost:8080/",
          "height": 344
        },
        "id": "A2Y9TAHqukWd",
        "outputId": "3747c8c7-8b0a-4949-bd57-0c734ce13cdd"
      },
      "execution_count": 15,
      "outputs": [
        {
          "output_type": "stream",
          "name": "stdout",
          "text": [
            "     jumlah sampel  persentase\n",
            "no          176000        69.8\n",
            "yes          76000        30.2\n"
          ]
        },
        {
          "output_type": "display_data",
          "data": {
            "text/plain": [
              "<Figure size 432x288 with 1 Axes>"
            ],
            "image/png": "[encoded data removed]"
          },
          "metadata": {
            "needs_background": "light"
          }
        }
      ]
    },
    {
      "cell_type": "code",
      "source": [
        "feature = cat_feat[3]\n",
        "count = data[feature].value_counts()\n",
        "percent = 100*data[feature].value_counts(normalize=True)\n",
        "df = pd.DataFrame({'jumlah sampel':count, 'persentase':percent.round(1)})\n",
        "print(df)\n",
        "count.plot(kind='bar', title=feature);\n",
        "# profesi sample terdisdribusi merata, masing-masing terdiri dari range 1,6%-2%"
      ],
      "metadata": {
        "trusted": true,
        "colab": {
          "base_uri": "https://localhost:8080/",
          "height": 1000
        },
        "id": "afQjmN43ukWf",
        "outputId": "5f05fe48-e024-4897-ed80-a1a1d6c28a2e"
      },
      "execution_count": 16,
      "outputs": [
        {
          "output_type": "stream",
          "name": "stdout",
          "text": [
            "                            jumlah sampel  persentase\n",
            "Physician                            5957         2.4\n",
            "Statistician                         5806         2.3\n",
            "Web_designer                         5397         2.1\n",
            "Psychologist                         5390         2.1\n",
            "Computer_hardware_engineer           5372         2.1\n",
            "Drafter                              5359         2.1\n",
            "Magistrate                           5357         2.1\n",
            "Fashion_Designer                     5304         2.1\n",
            "Air_traffic_controller               5281         2.1\n",
            "Comedian                             5259         2.1\n",
            "Industrial_Engineer                  5250         2.1\n",
            "Mechanical_engineer                  5217         2.1\n",
            "Chemical_engineer                    5205         2.1\n",
            "Technical_writer                     5195         2.1\n",
            "Hotel_Manager                        5178         2.1\n",
            "Financial_Analyst                    5167         2.1\n",
            "Graphic_Designer                     5166         2.1\n",
            "Flight_attendant                     5128         2.0\n",
            "Biomedical_Engineer                  5127         2.0\n",
            "Secretary                            5061         2.0\n",
            "Software_Developer                   5053         2.0\n",
            "Petroleum_Engineer                   5041         2.0\n",
            "Police_officer                       5035         2.0\n",
            "Computer_operator                    4990         2.0\n",
            "Politician                           4944         2.0\n",
            "Microbiologist                       4881         1.9\n",
            "Technician                           4864         1.9\n",
            "Artist                               4861         1.9\n",
            "Lawyer                               4818         1.9\n",
            "Consultant                           4808         1.9\n",
            "Dentist                              4782         1.9\n",
            "Scientist                            4781         1.9\n",
            "Surgeon                              4772         1.9\n",
            "Aviator                              4758         1.9\n",
            "Technology_specialist                4737         1.9\n",
            "Design_Engineer                      4729         1.9\n",
            "Surveyor                             4714         1.9\n",
            "Geologist                            4672         1.9\n",
            "Analyst                              4668         1.9\n",
            "Army_officer                         4661         1.8\n",
            "Architect                            4657         1.8\n",
            "Chef                                 4635         1.8\n",
            "Librarian                            4628         1.8\n",
            "Civil_engineer                       4616         1.8\n",
            "Designer                             4598         1.8\n",
            "Economist                            4573         1.8\n",
            "Firefighter                          4507         1.8\n",
            "Chartered_Accountant                 4493         1.8\n",
            "Civil_servant                        4413         1.8\n",
            "Official                             4087         1.6\n",
            "Engineer                             4048         1.6\n"
          ]
        },
        {
          "output_type": "display_data",
          "data": {
            "text/plain": [
              "<Figure size 432x288 with 1 Axes>"
            ],
            "image/png": "[encoded data removed]"
          },
          "metadata": {
            "needs_background": "light"
          }
        }
      ]
    },
    {
      "cell_type": "code",
      "source": [
        "feature = cat_feat[4]\n",
        "count = data[feature].value_counts()\n",
        "percent = 100*data[feature].value_counts(normalize=True)\n",
        "df = pd.DataFrame({'jumlah sampel':count, 'persentase':percent.round(1)})\n",
        "print(df)\n",
        "count.plot(kind='bar', title=feature);\n",
        "# variabel city memiliki nilai yang beragam yaitu 317 nilai berbeda.\n",
        "# jika variabel ini digunakan sebagai fitur maka akan terdiri dari\n",
        "# banyak kolom apabila dilakukan one hot encoding, sehingga variabel ini akan di drop\n",
        "# lebih baik menggunakan variabel provinsi atau state agar distinct value lebih sedikit"
      ],
      "metadata": {
        "trusted": true,
        "colab": {
          "base_uri": "https://localhost:8080/",
          "height": 676
        },
        "id": "waPvopNuukWg",
        "outputId": "c0402144-3312-4cc4-9e74-bb0f51581d44"
      },
      "execution_count": 17,
      "outputs": [
        {
          "output_type": "stream",
          "name": "stdout",
          "text": [
            "                  jumlah sampel  persentase\n",
            "Vijayanagaram              1259         0.5\n",
            "Bhopal                     1208         0.5\n",
            "Bulandshahr                1185         0.5\n",
            "Saharsa[29]                1180         0.5\n",
            "Vijayawada                 1172         0.5\n",
            "...                         ...         ...\n",
            "Ujjain                      486         0.2\n",
            "Warangal[11][12]            459         0.2\n",
            "Bettiah[33]                 457         0.2\n",
            "Katni                       448         0.2\n",
            "Karaikudi                   431         0.2\n",
            "\n",
            "[317 rows x 2 columns]\n"
          ]
        },
        {
          "output_type": "display_data",
          "data": {
            "text/plain": [
              "<Figure size 432x288 with 1 Axes>"
            ],
            "image/png": "[encoded data removed]"
          },
          "metadata": {
            "needs_background": "light"
          }
        }
      ]
    },
    {
      "cell_type": "code",
      "source": [
        "feature = cat_feat[5]\n",
        "count = data[feature].value_counts()\n",
        "percent = 100*data[feature].value_counts(normalize=True)\n",
        "df = pd.DataFrame({'jumlah sampel':count, 'persentase':percent.round(1)})\n",
        "print(df)\n",
        "count.plot(kind='bar', title=feature);\n",
        "# variabel ini akan digunakan sebagai fitur untuk \n",
        "# menggantikan variabel CITY, karena memiliki distinct value\n",
        "# lebih sedikit dari city, sehingga nanti akan dilakukan one hot encoding"
      ],
      "metadata": {
        "colab": {
          "base_uri": "https://localhost:8080/",
          "height": 930
        },
        "id": "tsy-1y2zz5_u",
        "outputId": "6f2a4d34-1386-4587-abc8-f0e9a29188f2"
      },
      "execution_count": 18,
      "outputs": [
        {
          "output_type": "stream",
          "name": "stdout",
          "text": [
            "                   jumlah sampel  persentase\n",
            "Uttar_Pradesh              28400        11.3\n",
            "Maharashtra                25562        10.1\n",
            "Andhra_Pradesh             25297        10.0\n",
            "West_Bengal                23483         9.3\n",
            "Bihar                      19780         7.8\n",
            "Tamil_Nadu                 16537         6.6\n",
            "Madhya_Pradesh             14122         5.6\n",
            "Karnataka                  11855         4.7\n",
            "Gujarat                    11408         4.5\n",
            "Rajasthan                   9174         3.6\n",
            "Jharkhand                   8965         3.6\n",
            "Haryana                     7890         3.1\n",
            "Telangana                   7524         3.0\n",
            "Assam                       7062         2.8\n",
            "Kerala                      5805         2.3\n",
            "Delhi                       5490         2.2\n",
            "Punjab                      4720         1.9\n",
            "Odisha                      4658         1.8\n",
            "Chhattisgarh                3834         1.5\n",
            "Uttarakhand                 1874         0.7\n",
            "Jammu_and_Kashmir           1780         0.7\n",
            "Puducherry                  1433         0.6\n",
            "Mizoram                      849         0.3\n",
            "Manipur                      849         0.3\n",
            "Himachal_Pradesh             833         0.3\n",
            "Tripura                      809         0.3\n",
            "Uttar_Pradesh[5]             743         0.3\n",
            "Chandigarh                   656         0.3\n",
            "Sikkim                       608         0.2\n"
          ]
        },
        {
          "output_type": "display_data",
          "data": {
            "text/plain": [
              "<Figure size 432x288 with 1 Axes>"
            ],
            "image/png": "[encoded data removed]"
          },
          "metadata": {
            "needs_background": "light"
          }
        }
      ]
    },
    {
      "cell_type": "code",
      "source": [
        "# drop ID, dan CITY\n",
        "data.drop(['Id', 'CITY'], inplace=True, axis=1)\n",
        "data.head()"
      ],
      "metadata": {
        "colab": {
          "base_uri": "https://localhost:8080/",
          "height": 270
        },
        "id": "PJjsnXI30qh_",
        "outputId": "ab5d6deb-c652-416b-a8ac-d0675f71aa23"
      },
      "execution_count": 19,
      "outputs": [
        {
          "output_type": "execute_result",
          "data": {
            "text/plain": [
              "    Income  Age  Experience Married/Single House_Ownership Car_Ownership  \\\n",
              "0  1303834   23           3         single          rented            no   \n",
              "1  7574516   40          10         single          rented            no   \n",
              "2  3991815   66           4        married          rented            no   \n",
              "3  6256451   41           2         single          rented           yes   \n",
              "4  5768871   47          11         single          rented            no   \n",
              "\n",
              "            Profession           STATE  CURRENT_JOB_YRS  CURRENT_HOUSE_YRS  \\\n",
              "0  Mechanical_engineer  Madhya_Pradesh                3                 13   \n",
              "1   Software_Developer     Maharashtra                9                 13   \n",
              "2     Technical_writer          Kerala                4                 10   \n",
              "3   Software_Developer          Odisha                2                 12   \n",
              "4        Civil_servant      Tamil_Nadu                3                 14   \n",
              "\n",
              "   Risk_Flag  \n",
              "0          0  \n",
              "1          0  \n",
              "2          0  \n",
              "3          1  \n",
              "4          1  "
            ],
            "text/html": [
              "\n",
              "  <div id=\"df-f39cb150-c863-42fe-810b-4713f2114756\">\n",
              "    <div class=\"colab-df-container\">\n",
              "      <div>\n",
              "<style scoped>\n",
              "    .dataframe tbody tr th:only-of-type {\n",
              "        vertical-align: middle;\n",
              "    }\n",
              "\n",
              "    .dataframe tbody tr th {\n",
              "        vertical-align: top;\n",
              "    }\n",
              "\n",
              "    .dataframe thead th {\n",
              "        text-align: right;\n",
              "    }\n",
              "</style>\n",
              "<table border=\"1\" class=\"dataframe\">\n",
              "  <thead>\n",
              "    <tr style=\"text-align: right;\">\n",
              "      <th></th>\n",
              "      <th>Income</th>\n",
              "      <th>Age</th>\n",
              "      <th>Experience</th>\n",
              "      <th>Married/Single</th>\n",
              "      <th>House_Ownership</th>\n",
              "      <th>Car_Ownership</th>\n",
              "      <th>Profession</th>\n",
              "      <th>STATE</th>\n",
              "      <th>CURRENT_JOB_YRS</th>\n",
              "      <th>CURRENT_HOUSE_YRS</th>\n",
              "      <th>Risk_Flag</th>\n",
              "    </tr>\n",
              "  </thead>\n",
              "  <tbody>\n",
              "    <tr>\n",
              "      <th>0</th>\n",
              "      <td>1303834</td>\n",
              "      <td>23</td>\n",
              "      <td>3</td>\n",
              "      <td>single</td>\n",
              "      <td>rented</td>\n",
              "      <td>no</td>\n",
              "      <td>Mechanical_engineer</td>\n",
              "      <td>Madhya_Pradesh</td>\n",
              "      <td>3</td>\n",
              "      <td>13</td>\n",
              "      <td>0</td>\n",
              "    </tr>\n",
              "    <tr>\n",
              "      <th>1</th>\n",
              "      <td>7574516</td>\n",
              "      <td>40</td>\n",
              "      <td>10</td>\n",
              "      <td>single</td>\n",
              "      <td>rented</td>\n",
              "      <td>no</td>\n",
              "      <td>Software_Developer</td>\n",
              "      <td>Maharashtra</td>\n",
              "      <td>9</td>\n",
              "      <td>13</td>\n",
              "      <td>0</td>\n",
              "    </tr>\n",
              "    <tr>\n",
              "      <th>2</th>\n",
              "      <td>3991815</td>\n",
              "      <td>66</td>\n",
              "      <td>4</td>\n",
              "      <td>married</td>\n",
              "      <td>rented</td>\n",
              "      <td>no</td>\n",
              "      <td>Technical_writer</td>\n",
              "      <td>Kerala</td>\n",
              "      <td>4</td>\n",
              "      <td>10</td>\n",
              "      <td>0</td>\n",
              "    </tr>\n",
              "    <tr>\n",
              "      <th>3</th>\n",
              "      <td>6256451</td>\n",
              "      <td>41</td>\n",
              "      <td>2</td>\n",
              "      <td>single</td>\n",
              "      <td>rented</td>\n",
              "      <td>yes</td>\n",
              "      <td>Software_Developer</td>\n",
              "      <td>Odisha</td>\n",
              "      <td>2</td>\n",
              "      <td>12</td>\n",
              "      <td>1</td>\n",
              "    </tr>\n",
              "    <tr>\n",
              "      <th>4</th>\n",
              "      <td>5768871</td>\n",
              "      <td>47</td>\n",
              "      <td>11</td>\n",
              "      <td>single</td>\n",
              "      <td>rented</td>\n",
              "      <td>no</td>\n",
              "      <td>Civil_servant</td>\n",
              "      <td>Tamil_Nadu</td>\n",
              "      <td>3</td>\n",
              "      <td>14</td>\n",
              "      <td>1</td>\n",
              "    </tr>\n",
              "  </tbody>\n",
              "</table>\n",
              "</div>\n",
              "      <button class=\"colab-df-convert\" onclick=\"convertToInteractive('df-f39cb150-c863-42fe-810b-4713f2114756')\"\n",
              "              title=\"Convert this dataframe to an interactive table.\"\n",
              "              style=\"display:none;\">\n",
              "        \n",
              "  <svg xmlns=\"http://www.w3.org/2000/svg\" height=\"24px\"viewBox=\"0 0 24 24\"\n",
              "       width=\"24px\">\n",
              "    <path d=\"M0 0h24v24H0V0z\" fill=\"none\"/>\n",
              "    <path d=\"M18.56 5.44l.94 2.06.94-2.06 2.06-.94-2.06-.94-.94-2.06-.94 2.06-2.06.94zm-11 1L8.5 8.5l.94-2.06 2.06-.94-2.06-.94L8.5 2.5l-.94 2.06-2.06.94zm10 10l.94 2.06.94-2.06 2.06-.94-2.06-.94-.94-2.06-.94 2.06-2.06.94z\"/><path d=\"M17.41 7.96l-1.37-1.37c-.4-.4-.92-.59-1.43-.59-.52 0-1.04.2-1.43.59L10.3 9.45l-7.72 7.72c-.78.78-.78 2.05 0 2.83L4 21.41c.39.39.9.59 1.41.59.51 0 1.02-.2 1.41-.59l7.78-7.78 2.81-2.81c.8-.78.8-2.07 0-2.86zM5.41 20L4 18.59l7.72-7.72 1.47 1.35L5.41 20z\"/>\n",
              "  </svg>\n",
              "      </button>\n",
              "      \n",
              "  <style>\n",
              "    .colab-df-container {\n",
              "      display:flex;\n",
              "      flex-wrap:wrap;\n",
              "      gap: 12px;\n",
              "    }\n",
              "\n",
              "    .colab-df-convert {\n",
              "      background-color: #E8F0FE;\n",
              "      border: none;\n",
              "      border-radius: 50%;\n",
              "      cursor: pointer;\n",
              "      display: none;\n",
              "      fill: #1967D2;\n",
              "      height: 32px;\n",
              "      padding: 0 0 0 0;\n",
              "      width: 32px;\n",
              "    }\n",
              "\n",
              "    .colab-df-convert:hover {\n",
              "      background-color: #E2EBFA;\n",
              "      box-shadow: 0px 1px 2px rgba(60, 64, 67, 0.3), 0px 1px 3px 1px rgba(60, 64, 67, 0.15);\n",
              "      fill: #174EA6;\n",
              "    }\n",
              "\n",
              "    [theme=dark] .colab-df-convert {\n",
              "      background-color: #3B4455;\n",
              "      fill: #D2E3FC;\n",
              "    }\n",
              "\n",
              "    [theme=dark] .colab-df-convert:hover {\n",
              "      background-color: #434B5C;\n",
              "      box-shadow: 0px 1px 3px 1px rgba(0, 0, 0, 0.15);\n",
              "      filter: drop-shadow(0px 1px 2px rgba(0, 0, 0, 0.3));\n",
              "      fill: #FFFFFF;\n",
              "    }\n",
              "  </style>\n",
              "\n",
              "      <script>\n",
              "        const buttonEl =\n",
              "          document.querySelector('#df-f39cb150-c863-42fe-810b-4713f2114756 button.colab-df-convert');\n",
              "        buttonEl.style.display =\n",
              "          google.colab.kernel.accessAllowed ? 'block' : 'none';\n",
              "\n",
              "        async function convertToInteractive(key) {\n",
              "          const element = document.querySelector('#df-f39cb150-c863-42fe-810b-4713f2114756');\n",
              "          const dataTable =\n",
              "            await google.colab.kernel.invokeFunction('convertToInteractive',\n",
              "                                                     [key], {});\n",
              "          if (!dataTable) return;\n",
              "\n",
              "          const docLinkHtml = 'Like what you see? Visit the ' +\n",
              "            '<a target=\"_blank\" href=https://colab.research.google.com/notebooks/data_table.ipynb>data table notebook</a>'\n",
              "            + ' to learn more about interactive tables.';\n",
              "          element.innerHTML = '';\n",
              "          dataTable['output_type'] = 'display_data';\n",
              "          await google.colab.output.renderOutput(dataTable, element);\n",
              "          const docLink = document.createElement('div');\n",
              "          docLink.innerHTML = docLinkHtml;\n",
              "          element.appendChild(docLink);\n",
              "        }\n",
              "      </script>\n",
              "    </div>\n",
              "  </div>\n",
              "  "
            ]
          },
          "metadata": {},
          "execution_count": 19
        }
      ]
    },
    {
      "cell_type": "markdown",
      "source": [
        "### numerical features"
      ],
      "metadata": {
        "id": "w9vjdO4bukWi"
      }
    },
    {
      "cell_type": "code",
      "source": [
        "data.hist(bins=50, figsize=(20,15))\n",
        "plt.show()\n",
        "# mayoritas variabel memiliki distribusi yg merata terhadap sample data\n",
        "# semakin tinggi job years, terjadi penurunan sample data"
      ],
      "metadata": {
        "trusted": true,
        "colab": {
          "base_uri": "https://localhost:8080/",
          "height": 755
        },
        "id": "3Q3RMlvYukWj",
        "outputId": "0021475d-024c-4813-ce68-eb857050a856"
      },
      "execution_count": 20,
      "outputs": [
        {
          "output_type": "display_data",
          "data": {
            "text/plain": [
              "<Figure size 1440x1080 with 6 Axes>"
            ],
            "image/png": "[encoded data removed]"
          },
          "metadata": {
            "needs_background": "light"
          }
        }
      ]
    },
    {
      "cell_type": "markdown",
      "source": [
        "### multivariate analysis"
      ],
      "metadata": {
        "id": "h8Sww7mqukWn"
      }
    },
    {
      "cell_type": "code",
      "source": [
        "# categorical features\n",
        "cat_features = data.select_dtypes(include='object').columns.to_list()\n",
        " \n",
        "for col in cat_features:\n",
        "  sns.catplot(x=col, y=\"Risk_Flag\", kind=\"bar\", dodge=False, height = 4, aspect = 3,  data=data, palette=\"Set3\")\n",
        "  plt.title(\"Rata-rata 'risk flag' Relatif terhadap - {}\".format(col))"
      ],
      "metadata": {
        "trusted": true,
        "colab": {
          "base_uri": "https://localhost:8080/",
          "height": 1000
        },
        "id": "InaP8McAukWp",
        "outputId": "f22b126b-f14e-41f6-83b7-216a3ebbeeab"
      },
      "execution_count": 22,
      "outputs": [
        {
          "output_type": "display_data",
          "data": {
            "text/plain": [
              "<Figure size 864x288 with 1 Axes>"
            ],
            "image/png": "[encoded data removed]"
          },
          "metadata": {
            "needs_background": "light"
          }
        },
        {
          "output_type": "display_data",
          "data": {
            "text/plain": [
              "<Figure size 864x288 with 1 Axes>"
            ],
            "image/png": "[encoded data removed]"
          },
          "metadata": {
            "needs_background": "light"
          }
        },
        {
          "output_type": "display_data",
          "data": {
            "text/plain": [
              "<Figure size 864x288 with 1 Axes>"
            ],
            "image/png": "[encoded data removed]"
          },
          "metadata": {
            "needs_background": "light"
          }
        },
        {
          "output_type": "display_data",
          "data": {
            "text/plain": [
              "<Figure size 864x288 with 1 Axes>"
            ],
            "image/png": "[encoded data removed]"
          },
          "metadata": {
            "needs_background": "light"
          }
        },
        {
          "output_type": "display_data",
          "data": {
            "text/plain": [
              "<Figure size 864x288 with 1 Axes>"
            ],
            "image/png": "[encoded data removed]"
          },
          "metadata": {
            "needs_background": "light"
          }
        }
      ]
    },
    {
      "cell_type": "markdown",
      "source": [
        "### Kesimpulan\n",
        "\n",
        "\n",
        "\n",
        "1.   single lebih tinggi resiko gagal bayar hutang\n",
        "2.   rented house lebih tinggi resiko gagal bayar hutang, dan owned house kebalikannya\n",
        "3. yg tidak memiliki mobil lebih berisiko gagal bayar\n",
        "4. terdapat beberapa profesi yg memiliki risiko lebih tinggi\n",
        "5. terdapat beberapa State yg memiliki risiko lebih tinggi\n",
        "\n",
        "karena kelima categorical fitur diatas mempengaruhi tingkat resiko gagal bayar, sehingga kelima variabel akan menjadi features\n",
        "\n",
        "\n",
        "\n",
        "\n"
      ],
      "metadata": {
        "id": "tHugbTvV2KNV"
      }
    },
    {
      "cell_type": "code",
      "source": [
        "#numerical variabel\n",
        "# pada visualisasi ini income tidak divisualisasikan karena memerlukan waktu komputasi yg lama\n",
        "numerical_feat = ['Age', 'Experience', 'CURRENT_JOB_YRS', 'CURRENT_HOUSE_YRS']\n",
        "for col in numerical_feat:\n",
        "  sns.catplot(x=col, y=\"Risk_Flag\", kind=\"bar\", dodge=False, height = 4, aspect = 3,  data=data, palette=\"Set3\")\n",
        "  plt.title(\"Rata-rata 'risk flag' Relatif terhadap - {}\".format(col))"
      ],
      "metadata": {
        "trusted": true,
        "colab": {
          "base_uri": "https://localhost:8080/",
          "height": 1000
        },
        "id": "MDCaUQzpukWq",
        "outputId": "6ebc8578-ee4b-4d93-ab07-8c23352ae972"
      },
      "execution_count": 24,
      "outputs": [
        {
          "output_type": "display_data",
          "data": {
            "text/plain": [
              "<Figure size 864x288 with 1 Axes>"
            ],
            "image/png": "[encoded data removed]"
          },
          "metadata": {
            "needs_background": "light"
          }
        },
        {
          "output_type": "display_data",
          "data": {
            "text/plain": [
              "<Figure size 864x288 with 1 Axes>"
            ],
            "image/png": "[encoded data removed]"
          },
          "metadata": {
            "needs_background": "light"
          }
        },
        {
          "output_type": "display_data",
          "data": {
            "text/plain": [
              "<Figure size 864x288 with 1 Axes>"
            ],
            "image/png": "[encoded data removed]"
          },
          "metadata": {
            "needs_background": "light"
          }
        },
        {
          "output_type": "display_data",
          "data": {
            "text/plain": [
              "<Figure size 864x288 with 1 Axes>"
            ],
            "image/png": "[encoded data removed]"
          },
          "metadata": {
            "needs_background": "light"
          }
        }
      ]
    },
    {
      "cell_type": "markdown",
      "source": [
        "### Kesimpulan \n",
        "\n",
        "1.   semakin tinggi Age, Experience, CURRENT_JOB_YRS, CURRENT_HOUSE_YRS, maka resiko gagal bayar semakin rendah\n",
        "2.   variabel diatas berkorelasi dengan risk flag sehingga dapat menjadi fitur untuk clasifikasi\n",
        "\n"
      ],
      "metadata": {
        "id": "b3oTHYZi5LN4"
      }
    },
    {
      "cell_type": "markdown",
      "source": [
        "## Data Preparation"
      ],
      "metadata": {
        "id": "vaxC8cIDukWr"
      }
    },
    {
      "cell_type": "markdown",
      "source": [
        "### Encoding fitur kategori"
      ],
      "metadata": {
        "id": "EZ0KGCLFukWu"
      }
    },
    {
      "cell_type": "code",
      "source": [
        "from sklearn.preprocessing import  OneHotEncoder\n",
        "data = pd.concat([data, pd.get_dummies(data['Married/Single'], prefix='married')],axis=1)\n",
        "data = pd.concat([data, pd.get_dummies(data['House_Ownership'], prefix='house')],axis=1)\n",
        "data = pd.concat([data, pd.get_dummies(data['Car_Ownership'], prefix='car')],axis=1)\n",
        "data = pd.concat([data, pd.get_dummies(data['Profession'], prefix='job')],axis=1)\n",
        "data = pd.concat([data, pd.get_dummies(data['STATE'], prefix='state')],axis=1)\n",
        "data.drop(['Married/Single', 'House_Ownership', 'Car_Ownership', \n",
        "            'Profession', 'STATE'], axis=1, inplace=True)\n",
        "data"
      ],
      "metadata": {
        "execution": {
          "iopub.status.busy": "2022-08-10T11:32:48.464243Z",
          "iopub.execute_input": "2022-08-10T11:32:48.464661Z",
          "iopub.status.idle": "2022-08-10T11:32:48.862056Z",
          "shell.execute_reply.started": "2022-08-10T11:32:48.464625Z",
          "shell.execute_reply": "2022-08-10T11:32:48.860698Z"
        },
        "trusted": true,
        "colab": {
          "base_uri": "https://localhost:8080/",
          "height": 487
        },
        "id": "UaUpV-7-ukWu",
        "outputId": "38417953-7f03-40c5-b846-1e6256c5cb8e"
      },
      "execution_count": 27,
      "outputs": [
        {
          "output_type": "execute_result",
          "data": {
            "text/plain": [
              "         Income  Age  Experience  CURRENT_JOB_YRS  CURRENT_HOUSE_YRS  \\\n",
              "0       1303834   23           3                3                 13   \n",
              "1       7574516   40          10                9                 13   \n",
              "2       3991815   66           4                4                 10   \n",
              "3       6256451   41           2                2                 12   \n",
              "4       5768871   47          11                3                 14   \n",
              "...         ...  ...         ...              ...                ...   \n",
              "251995  8154883   43          13                6                 11   \n",
              "251996  2843572   26          10                6                 11   \n",
              "251997  4522448   46           7                7                 12   \n",
              "251998  6507128   45           0                0                 10   \n",
              "251999  9070230   70          17                7                 11   \n",
              "\n",
              "        Risk_Flag  married_married  married_single  house_norent_noown  \\\n",
              "0               0                0               1                   0   \n",
              "1               0                0               1                   0   \n",
              "2               0                1               0                   0   \n",
              "3               1                0               1                   0   \n",
              "4               1                0               1                   0   \n",
              "...           ...              ...             ...                 ...   \n",
              "251995          0                0               1                   0   \n",
              "251996          0                0               1                   0   \n",
              "251997          0                0               1                   0   \n",
              "251998          0                0               1                   0   \n",
              "251999          0                0               1                   0   \n",
              "\n",
              "        house_owned  ...  state_Punjab  state_Rajasthan  state_Sikkim  \\\n",
              "0                 0  ...             0                0             0   \n",
              "1                 0  ...             0                0             0   \n",
              "2                 0  ...             0                0             0   \n",
              "3                 0  ...             0                0             0   \n",
              "4                 0  ...             0                0             0   \n",
              "...             ...  ...           ...              ...           ...   \n",
              "251995            0  ...             0                0             0   \n",
              "251996            0  ...             0                0             0   \n",
              "251997            0  ...             0                0             0   \n",
              "251998            0  ...             0                0             0   \n",
              "251999            0  ...             0                0             0   \n",
              "\n",
              "        state_Tamil_Nadu  state_Telangana  state_Tripura  state_Uttar_Pradesh  \\\n",
              "0                      0                0              0                    0   \n",
              "1                      0                0              0                    0   \n",
              "2                      0                0              0                    0   \n",
              "3                      0                0              0                    0   \n",
              "4                      1                0              0                    0   \n",
              "...                  ...              ...            ...                  ...   \n",
              "251995                 0                0              0                    0   \n",
              "251996                 0                0              0                    0   \n",
              "251997                 0                0              0                    0   \n",
              "251998                 0                0              0                    0   \n",
              "251999                 1                0              0                    0   \n",
              "\n",
              "        state_Uttar_Pradesh[5]  state_Uttarakhand  state_West_Bengal  \n",
              "0                            0                  0                  0  \n",
              "1                            0                  0                  0  \n",
              "2                            0                  0                  0  \n",
              "3                            0                  0                  0  \n",
              "4                            0                  0                  0  \n",
              "...                        ...                ...                ...  \n",
              "251995                       0                  0                  1  \n",
              "251996                       0                  0                  0  \n",
              "251997                       0                  0                  0  \n",
              "251998                       0                  0                  0  \n",
              "251999                       0                  0                  0  \n",
              "\n",
              "[252000 rows x 93 columns]"
            ],
            "text/html": [
              "\n",
              "  <div id=\"df-cb129fd2-3c89-4606-931e-eed41c0aade0\">\n",
              "    <div class=\"colab-df-container\">\n",
              "      <div>\n",
              "<style scoped>\n",
              "    .dataframe tbody tr th:only-of-type {\n",
              "        vertical-align: middle;\n",
              "    }\n",
              "\n",
              "    .dataframe tbody tr th {\n",
              "        vertical-align: top;\n",
              "    }\n",
              "\n",
              "    .dataframe thead th {\n",
              "        text-align: right;\n",
              "    }\n",
              "</style>\n",
              "<table border=\"1\" class=\"dataframe\">\n",
              "  <thead>\n",
              "    <tr style=\"text-align: right;\">\n",
              "      <th></th>\n",
              "      <th>Income</th>\n",
              "      <th>Age</th>\n",
              "      <th>Experience</th>\n",
              "      <th>CURRENT_JOB_YRS</th>\n",
              "      <th>CURRENT_HOUSE_YRS</th>\n",
              "      <th>Risk_Flag</th>\n",
              "      <th>married_married</th>\n",
              "      <th>married_single</th>\n",
              "      <th>house_norent_noown</th>\n",
              "      <th>house_owned</th>\n",
              "      <th>...</th>\n",
              "      <th>state_Punjab</th>\n",
              "      <th>state_Rajasthan</th>\n",
              "      <th>state_Sikkim</th>\n",
              "      <th>state_Tamil_Nadu</th>\n",
              "      <th>state_Telangana</th>\n",
              "      <th>state_Tripura</th>\n",
              "      <th>state_Uttar_Pradesh</th>\n",
              "      <th>state_Uttar_Pradesh[5]</th>\n",
              "      <th>state_Uttarakhand</th>\n",
              "      <th>state_West_Bengal</th>\n",
              "    </tr>\n",
              "  </thead>\n",
              "  <tbody>\n",
              "    <tr>\n",
              "      <th>0</th>\n",
              "      <td>1303834</td>\n",
              "      <td>23</td>\n",
              "      <td>3</td>\n",
              "      <td>3</td>\n",
              "      <td>13</td>\n",
              "      <td>0</td>\n",
              "      <td>0</td>\n",
              "      <td>1</td>\n",
              "      <td>0</td>\n",
              "      <td>0</td>\n",
              "      <td>...</td>\n",
              "      <td>0</td>\n",
              "      <td>0</td>\n",
              "      <td>0</td>\n",
              "      <td>0</td>\n",
              "      <td>0</td>\n",
              "      <td>0</td>\n",
              "      <td>0</td>\n",
              "      <td>0</td>\n",
              "      <td>0</td>\n",
              "      <td>0</td>\n",
              "    </tr>\n",
              "    <tr>\n",
              "      <th>1</th>\n",
              "      <td>7574516</td>\n",
              "      <td>40</td>\n",
              "      <td>10</td>\n",
              "      <td>9</td>\n",
              "      <td>13</td>\n",
              "      <td>0</td>\n",
              "      <td>0</td>\n",
              "      <td>1</td>\n",
              "      <td>0</td>\n",
              "      <td>0</td>\n",
              "      <td>...</td>\n",
              "      <td>0</td>\n",
              "      <td>0</td>\n",
              "      <td>0</td>\n",
              "      <td>0</td>\n",
              "      <td>0</td>\n",
              "      <td>0</td>\n",
              "      <td>0</td>\n",
              "      <td>0</td>\n",
              "      <td>0</td>\n",
              "      <td>0</td>\n",
              "    </tr>\n",
              "    <tr>\n",
              "      <th>2</th>\n",
              "      <td>3991815</td>\n",
              "      <td>66</td>\n",
              "      <td>4</td>\n",
              "      <td>4</td>\n",
              "      <td>10</td>\n",
              "      <td>0</td>\n",
              "      <td>1</td>\n",
              "      <td>0</td>\n",
              "      <td>0</td>\n",
              "      <td>0</td>\n",
              "      <td>...</td>\n",
              "      <td>0</td>\n",
              "      <td>0</td>\n",
              "      <td>0</td>\n",
              "      <td>0</td>\n",
              "      <td>0</td>\n",
              "      <td>0</td>\n",
              "      <td>0</td>\n",
              "      <td>0</td>\n",
              "      <td>0</td>\n",
              "      <td>0</td>\n",
              "    </tr>\n",
              "    <tr>\n",
              "      <th>3</th>\n",
              "      <td>6256451</td>\n",
              "      <td>41</td>\n",
              "      <td>2</td>\n",
              "      <td>2</td>\n",
              "      <td>12</td>\n",
              "      <td>1</td>\n",
              "      <td>0</td>\n",
              "      <td>1</td>\n",
              "      <td>0</td>\n",
              "      <td>0</td>\n",
              "      <td>...</td>\n",
              "      <td>0</td>\n",
              "      <td>0</td>\n",
              "      <td>0</td>\n",
              "      <td>0</td>\n",
              "      <td>0</td>\n",
              "      <td>0</td>\n",
              "      <td>0</td>\n",
              "      <td>0</td>\n",
              "      <td>0</td>\n",
              "      <td>0</td>\n",
              "    </tr>\n",
              "    <tr>\n",
              "      <th>4</th>\n",
              "      <td>5768871</td>\n",
              "      <td>47</td>\n",
              "      <td>11</td>\n",
              "      <td>3</td>\n",
              "      <td>14</td>\n",
              "      <td>1</td>\n",
              "      <td>0</td>\n",
              "      <td>1</td>\n",
              "      <td>0</td>\n",
              "      <td>0</td>\n",
              "      <td>...</td>\n",
              "      <td>0</td>\n",
              "      <td>0</td>\n",
              "      <td>0</td>\n",
              "      <td>1</td>\n",
              "      <td>0</td>\n",
              "      <td>0</td>\n",
              "      <td>0</td>\n",
              "      <td>0</td>\n",
              "      <td>0</td>\n",
              "      <td>0</td>\n",
              "    </tr>\n",
              "    <tr>\n",
              "      <th>...</th>\n",
              "      <td>...</td>\n",
              "      <td>...</td>\n",
              "      <td>...</td>\n",
              "      <td>...</td>\n",
              "      <td>...</td>\n",
              "      <td>...</td>\n",
              "      <td>...</td>\n",
              "      <td>...</td>\n",
              "      <td>...</td>\n",
              "      <td>...</td>\n",
              "      <td>...</td>\n",
              "      <td>...</td>\n",
              "      <td>...</td>\n",
              "      <td>...</td>\n",
              "      <td>...</td>\n",
              "      <td>...</td>\n",
              "      <td>...</td>\n",
              "      <td>...</td>\n",
              "      <td>...</td>\n",
              "      <td>...</td>\n",
              "      <td>...</td>\n",
              "    </tr>\n",
              "    <tr>\n",
              "      <th>251995</th>\n",
              "      <td>8154883</td>\n",
              "      <td>43</td>\n",
              "      <td>13</td>\n",
              "      <td>6</td>\n",
              "      <td>11</td>\n",
              "      <td>0</td>\n",
              "      <td>0</td>\n",
              "      <td>1</td>\n",
              "      <td>0</td>\n",
              "      <td>0</td>\n",
              "      <td>...</td>\n",
              "      <td>0</td>\n",
              "      <td>0</td>\n",
              "      <td>0</td>\n",
              "      <td>0</td>\n",
              "      <td>0</td>\n",
              "      <td>0</td>\n",
              "      <td>0</td>\n",
              "      <td>0</td>\n",
              "      <td>0</td>\n",
              "      <td>1</td>\n",
              "    </tr>\n",
              "    <tr>\n",
              "      <th>251996</th>\n",
              "      <td>2843572</td>\n",
              "      <td>26</td>\n",
              "      <td>10</td>\n",
              "      <td>6</td>\n",
              "      <td>11</td>\n",
              "      <td>0</td>\n",
              "      <td>0</td>\n",
              "      <td>1</td>\n",
              "      <td>0</td>\n",
              "      <td>0</td>\n",
              "      <td>...</td>\n",
              "      <td>0</td>\n",
              "      <td>0</td>\n",
              "      <td>0</td>\n",
              "      <td>0</td>\n",
              "      <td>0</td>\n",
              "      <td>0</td>\n",
              "      <td>0</td>\n",
              "      <td>0</td>\n",
              "      <td>0</td>\n",
              "      <td>0</td>\n",
              "    </tr>\n",
              "    <tr>\n",
              "      <th>251997</th>\n",
              "      <td>4522448</td>\n",
              "      <td>46</td>\n",
              "      <td>7</td>\n",
              "      <td>7</td>\n",
              "      <td>12</td>\n",
              "      <td>0</td>\n",
              "      <td>0</td>\n",
              "      <td>1</td>\n",
              "      <td>0</td>\n",
              "      <td>0</td>\n",
              "      <td>...</td>\n",
              "      <td>0</td>\n",
              "      <td>0</td>\n",
              "      <td>0</td>\n",
              "      <td>0</td>\n",
              "      <td>0</td>\n",
              "      <td>0</td>\n",
              "      <td>0</td>\n",
              "      <td>0</td>\n",
              "      <td>0</td>\n",
              "      <td>0</td>\n",
              "    </tr>\n",
              "    <tr>\n",
              "      <th>251998</th>\n",
              "      <td>6507128</td>\n",
              "      <td>45</td>\n",
              "      <td>0</td>\n",
              "      <td>0</td>\n",
              "      <td>10</td>\n",
              "      <td>0</td>\n",
              "      <td>0</td>\n",
              "      <td>1</td>\n",
              "      <td>0</td>\n",
              "      <td>0</td>\n",
              "      <td>...</td>\n",
              "      <td>0</td>\n",
              "      <td>0</td>\n",
              "      <td>0</td>\n",
              "      <td>0</td>\n",
              "      <td>0</td>\n",
              "      <td>0</td>\n",
              "      <td>0</td>\n",
              "      <td>0</td>\n",
              "      <td>0</td>\n",
              "      <td>0</td>\n",
              "    </tr>\n",
              "    <tr>\n",
              "      <th>251999</th>\n",
              "      <td>9070230</td>\n",
              "      <td>70</td>\n",
              "      <td>17</td>\n",
              "      <td>7</td>\n",
              "      <td>11</td>\n",
              "      <td>0</td>\n",
              "      <td>0</td>\n",
              "      <td>1</td>\n",
              "      <td>0</td>\n",
              "      <td>0</td>\n",
              "      <td>...</td>\n",
              "      <td>0</td>\n",
              "      <td>0</td>\n",
              "      <td>0</td>\n",
              "      <td>1</td>\n",
              "      <td>0</td>\n",
              "      <td>0</td>\n",
              "      <td>0</td>\n",
              "      <td>0</td>\n",
              "      <td>0</td>\n",
              "      <td>0</td>\n",
              "    </tr>\n",
              "  </tbody>\n",
              "</table>\n",
              "<p>252000 rows × 93 columns</p>\n",
              "</div>\n",
              "      <button class=\"colab-df-convert\" onclick=\"convertToInteractive('df-cb129fd2-3c89-4606-931e-eed41c0aade0')\"\n",
              "              title=\"Convert this dataframe to an interactive table.\"\n",
              "              style=\"display:none;\">\n",
              "        \n",
              "  <svg xmlns=\"http://www.w3.org/2000/svg\" height=\"24px\"viewBox=\"0 0 24 24\"\n",
              "       width=\"24px\">\n",
              "    <path d=\"M0 0h24v24H0V0z\" fill=\"none\"/>\n",
              "    <path d=\"M18.56 5.44l.94 2.06.94-2.06 2.06-.94-2.06-.94-.94-2.06-.94 2.06-2.06.94zm-11 1L8.5 8.5l.94-2.06 2.06-.94-2.06-.94L8.5 2.5l-.94 2.06-2.06.94zm10 10l.94 2.06.94-2.06 2.06-.94-2.06-.94-.94-2.06-.94 2.06-2.06.94z\"/><path d=\"M17.41 7.96l-1.37-1.37c-.4-.4-.92-.59-1.43-.59-.52 0-1.04.2-1.43.59L10.3 9.45l-7.72 7.72c-.78.78-.78 2.05 0 2.83L4 21.41c.39.39.9.59 1.41.59.51 0 1.02-.2 1.41-.59l7.78-7.78 2.81-2.81c.8-.78.8-2.07 0-2.86zM5.41 20L4 18.59l7.72-7.72 1.47 1.35L5.41 20z\"/>\n",
              "  </svg>\n",
              "      </button>\n",
              "      \n",
              "  <style>\n",
              "    .colab-df-container {\n",
              "      display:flex;\n",
              "      flex-wrap:wrap;\n",
              "      gap: 12px;\n",
              "    }\n",
              "\n",
              "    .colab-df-convert {\n",
              "      background-color: #E8F0FE;\n",
              "      border: none;\n",
              "      border-radius: 50%;\n",
              "      cursor: pointer;\n",
              "      display: none;\n",
              "      fill: #1967D2;\n",
              "      height: 32px;\n",
              "      padding: 0 0 0 0;\n",
              "      width: 32px;\n",
              "    }\n",
              "\n",
              "    .colab-df-convert:hover {\n",
              "      background-color: #E2EBFA;\n",
              "      box-shadow: 0px 1px 2px rgba(60, 64, 67, 0.3), 0px 1px 3px 1px rgba(60, 64, 67, 0.15);\n",
              "      fill: #174EA6;\n",
              "    }\n",
              "\n",
              "    [theme=dark] .colab-df-convert {\n",
              "      background-color: #3B4455;\n",
              "      fill: #D2E3FC;\n",
              "    }\n",
              "\n",
              "    [theme=dark] .colab-df-convert:hover {\n",
              "      background-color: #434B5C;\n",
              "      box-shadow: 0px 1px 3px 1px rgba(0, 0, 0, 0.15);\n",
              "      filter: drop-shadow(0px 1px 2px rgba(0, 0, 0, 0.3));\n",
              "      fill: #FFFFFF;\n",
              "    }\n",
              "  </style>\n",
              "\n",
              "      <script>\n",
              "        const buttonEl =\n",
              "          document.querySelector('#df-cb129fd2-3c89-4606-931e-eed41c0aade0 button.colab-df-convert');\n",
              "        buttonEl.style.display =\n",
              "          google.colab.kernel.accessAllowed ? 'block' : 'none';\n",
              "\n",
              "        async function convertToInteractive(key) {\n",
              "          const element = document.querySelector('#df-cb129fd2-3c89-4606-931e-eed41c0aade0');\n",
              "          const dataTable =\n",
              "            await google.colab.kernel.invokeFunction('convertToInteractive',\n",
              "                                                     [key], {});\n",
              "          if (!dataTable) return;\n",
              "\n",
              "          const docLinkHtml = 'Like what you see? Visit the ' +\n",
              "            '<a target=\"_blank\" href=https://colab.research.google.com/notebooks/data_table.ipynb>data table notebook</a>'\n",
              "            + ' to learn more about interactive tables.';\n",
              "          element.innerHTML = '';\n",
              "          dataTable['output_type'] = 'display_data';\n",
              "          await google.colab.output.renderOutput(dataTable, element);\n",
              "          const docLink = document.createElement('div');\n",
              "          docLink.innerHTML = docLinkHtml;\n",
              "          element.appendChild(docLink);\n",
              "        }\n",
              "      </script>\n",
              "    </div>\n",
              "  </div>\n",
              "  "
            ]
          },
          "metadata": {},
          "execution_count": 27
        }
      ]
    },
    {
      "cell_type": "code",
      "source": [
        "X = data.drop([\"Risk_Flag\"],axis =1) # features\n",
        "y = data[\"Risk_Flag\"] #tareget"
      ],
      "metadata": {
        "execution": {
          "iopub.status.busy": "2022-08-10T11:33:07.202847Z",
          "iopub.execute_input": "2022-08-10T11:33:07.203345Z",
          "iopub.status.idle": "2022-08-10T11:33:07.234210Z",
          "shell.execute_reply.started": "2022-08-10T11:33:07.203304Z",
          "shell.execute_reply": "2022-08-10T11:33:07.232925Z"
        },
        "trusted": true,
        "colab": {
          "base_uri": "https://localhost:8080/",
          "height": 55
        },
        "id": "21h74pAcukWw",
        "outputId": "c88ea57e-6753-4ef0-d8d2-ce98c6d95535"
      },
      "execution_count": 28,
      "outputs": [
        {
          "output_type": "execute_result",
          "data": {
            "text/plain": [
              "'\\nfrom imblearn.over_sampling import RandomOverSampler\\nros = RandomOverSampler()\\nX1, y1 = ros.fit_resample(X,y)\\ny1.value_counts()\\n'"
            ],
            "application/vnd.google.colaboratory.intrinsic+json": {
              "type": "string"
            }
          },
          "metadata": {},
          "execution_count": 28
        }
      ]
    },
    {
      "cell_type": "code",
      "source": [
        "#standarisasi agar nilai mean dan std 0 dan 1\n",
        "from sklearn.preprocessing import StandardScaler\n",
        "\n",
        "scaler = StandardScaler()\n",
        "scaler.fit(X[num_feat])\n",
        "X[num_feat] = scaler.transform(X.loc[:, num_feat])\n",
        "X[num_feat].head()"
      ],
      "metadata": {
        "execution": {
          "iopub.status.busy": "2022-08-10T11:33:41.725271Z",
          "iopub.execute_input": "2022-08-10T11:33:41.725725Z",
          "iopub.status.idle": "2022-08-10T11:33:41.779473Z",
          "shell.execute_reply.started": "2022-08-10T11:33:41.725691Z",
          "shell.execute_reply": "2022-08-10T11:33:41.778513Z"
        },
        "trusted": true,
        "colab": {
          "base_uri": "https://localhost:8080/",
          "height": 206
        },
        "id": "aYSW5_zAukWx",
        "outputId": "fc11b83d-9294-44e8-a57b-397fb0856276"
      },
      "execution_count": 29,
      "outputs": [
        {
          "output_type": "execute_result",
          "data": {
            "text/plain": [
              "     Income       Age  Experience  CURRENT_JOB_YRS  CURRENT_HOUSE_YRS\n",
              "0 -1.283145 -1.579604   -1.180232        -0.914131           0.716356\n",
              "1  0.895457 -0.583344   -0.014067         0.731036           0.716356\n",
              "2 -0.349269  0.940348   -1.013637        -0.639936          -1.427981\n",
              "3  0.437526 -0.524740   -1.346827        -1.188325           0.001577\n",
              "4  0.268128 -0.173119    0.152528        -0.914131           1.431135"
            ],
            "text/html": [
              "\n",
              "  <div id=\"df-b6decc12-e29e-4350-a7c6-8be01659e6f3\">\n",
              "    <div class=\"colab-df-container\">\n",
              "      <div>\n",
              "<style scoped>\n",
              "    .dataframe tbody tr th:only-of-type {\n",
              "        vertical-align: middle;\n",
              "    }\n",
              "\n",
              "    .dataframe tbody tr th {\n",
              "        vertical-align: top;\n",
              "    }\n",
              "\n",
              "    .dataframe thead th {\n",
              "        text-align: right;\n",
              "    }\n",
              "</style>\n",
              "<table border=\"1\" class=\"dataframe\">\n",
              "  <thead>\n",
              "    <tr style=\"text-align: right;\">\n",
              "      <th></th>\n",
              "      <th>Income</th>\n",
              "      <th>Age</th>\n",
              "      <th>Experience</th>\n",
              "      <th>CURRENT_JOB_YRS</th>\n",
              "      <th>CURRENT_HOUSE_YRS</th>\n",
              "    </tr>\n",
              "  </thead>\n",
              "  <tbody>\n",
              "    <tr>\n",
              "      <th>0</th>\n",
              "      <td>-1.283145</td>\n",
              "      <td>-1.579604</td>\n",
              "      <td>-1.180232</td>\n",
              "      <td>-0.914131</td>\n",
              "      <td>0.716356</td>\n",
              "    </tr>\n",
              "    <tr>\n",
              "      <th>1</th>\n",
              "      <td>0.895457</td>\n",
              "      <td>-0.583344</td>\n",
              "      <td>-0.014067</td>\n",
              "      <td>0.731036</td>\n",
              "      <td>0.716356</td>\n",
              "    </tr>\n",
              "    <tr>\n",
              "      <th>2</th>\n",
              "      <td>-0.349269</td>\n",
              "      <td>0.940348</td>\n",
              "      <td>-1.013637</td>\n",
              "      <td>-0.639936</td>\n",
              "      <td>-1.427981</td>\n",
              "    </tr>\n",
              "    <tr>\n",
              "      <th>3</th>\n",
              "      <td>0.437526</td>\n",
              "      <td>-0.524740</td>\n",
              "      <td>-1.346827</td>\n",
              "      <td>-1.188325</td>\n",
              "      <td>0.001577</td>\n",
              "    </tr>\n",
              "    <tr>\n",
              "      <th>4</th>\n",
              "      <td>0.268128</td>\n",
              "      <td>-0.173119</td>\n",
              "      <td>0.152528</td>\n",
              "      <td>-0.914131</td>\n",
              "      <td>1.431135</td>\n",
              "    </tr>\n",
              "  </tbody>\n",
              "</table>\n",
              "</div>\n",
              "      <button class=\"colab-df-convert\" onclick=\"convertToInteractive('df-b6decc12-e29e-4350-a7c6-8be01659e6f3')\"\n",
              "              title=\"Convert this dataframe to an interactive table.\"\n",
              "              style=\"display:none;\">\n",
              "        \n",
              "  <svg xmlns=\"http://www.w3.org/2000/svg\" height=\"24px\"viewBox=\"0 0 24 24\"\n",
              "       width=\"24px\">\n",
              "    <path d=\"M0 0h24v24H0V0z\" fill=\"none\"/>\n",
              "    <path d=\"M18.56 5.44l.94 2.06.94-2.06 2.06-.94-2.06-.94-.94-2.06-.94 2.06-2.06.94zm-11 1L8.5 8.5l.94-2.06 2.06-.94-2.06-.94L8.5 2.5l-.94 2.06-2.06.94zm10 10l.94 2.06.94-2.06 2.06-.94-2.06-.94-.94-2.06-.94 2.06-2.06.94z\"/><path d=\"M17.41 7.96l-1.37-1.37c-.4-.4-.92-.59-1.43-.59-.52 0-1.04.2-1.43.59L10.3 9.45l-7.72 7.72c-.78.78-.78 2.05 0 2.83L4 21.41c.39.39.9.59 1.41.59.51 0 1.02-.2 1.41-.59l7.78-7.78 2.81-2.81c.8-.78.8-2.07 0-2.86zM5.41 20L4 18.59l7.72-7.72 1.47 1.35L5.41 20z\"/>\n",
              "  </svg>\n",
              "      </button>\n",
              "      \n",
              "  <style>\n",
              "    .colab-df-container {\n",
              "      display:flex;\n",
              "      flex-wrap:wrap;\n",
              "      gap: 12px;\n",
              "    }\n",
              "\n",
              "    .colab-df-convert {\n",
              "      background-color: #E8F0FE;\n",
              "      border: none;\n",
              "      border-radius: 50%;\n",
              "      cursor: pointer;\n",
              "      display: none;\n",
              "      fill: #1967D2;\n",
              "      height: 32px;\n",
              "      padding: 0 0 0 0;\n",
              "      width: 32px;\n",
              "    }\n",
              "\n",
              "    .colab-df-convert:hover {\n",
              "      background-color: #E2EBFA;\n",
              "      box-shadow: 0px 1px 2px rgba(60, 64, 67, 0.3), 0px 1px 3px 1px rgba(60, 64, 67, 0.15);\n",
              "      fill: #174EA6;\n",
              "    }\n",
              "\n",
              "    [theme=dark] .colab-df-convert {\n",
              "      background-color: #3B4455;\n",
              "      fill: #D2E3FC;\n",
              "    }\n",
              "\n",
              "    [theme=dark] .colab-df-convert:hover {\n",
              "      background-color: #434B5C;\n",
              "      box-shadow: 0px 1px 3px 1px rgba(0, 0, 0, 0.15);\n",
              "      filter: drop-shadow(0px 1px 2px rgba(0, 0, 0, 0.3));\n",
              "      fill: #FFFFFF;\n",
              "    }\n",
              "  </style>\n",
              "\n",
              "      <script>\n",
              "        const buttonEl =\n",
              "          document.querySelector('#df-b6decc12-e29e-4350-a7c6-8be01659e6f3 button.colab-df-convert');\n",
              "        buttonEl.style.display =\n",
              "          google.colab.kernel.accessAllowed ? 'block' : 'none';\n",
              "\n",
              "        async function convertToInteractive(key) {\n",
              "          const element = document.querySelector('#df-b6decc12-e29e-4350-a7c6-8be01659e6f3');\n",
              "          const dataTable =\n",
              "            await google.colab.kernel.invokeFunction('convertToInteractive',\n",
              "                                                     [key], {});\n",
              "          if (!dataTable) return;\n",
              "\n",
              "          const docLinkHtml = 'Like what you see? Visit the ' +\n",
              "            '<a target=\"_blank\" href=https://colab.research.google.com/notebooks/data_table.ipynb>data table notebook</a>'\n",
              "            + ' to learn more about interactive tables.';\n",
              "          element.innerHTML = '';\n",
              "          dataTable['output_type'] = 'display_data';\n",
              "          await google.colab.output.renderOutput(dataTable, element);\n",
              "          const docLink = document.createElement('div');\n",
              "          docLink.innerHTML = docLinkHtml;\n",
              "          element.appendChild(docLink);\n",
              "        }\n",
              "      </script>\n",
              "    </div>\n",
              "  </div>\n",
              "  "
            ]
          },
          "metadata": {},
          "execution_count": 29
        }
      ]
    },
    {
      "cell_type": "code",
      "source": [
        "#memastikan bahwa mean = 0 dan std= 1\n",
        "X[num_feat].describe().round(4)"
      ],
      "metadata": {
        "execution": {
          "iopub.status.busy": "2022-08-10T11:33:50.864096Z",
          "iopub.execute_input": "2022-08-10T11:33:50.864949Z",
          "iopub.status.idle": "2022-08-10T11:33:50.952237Z",
          "shell.execute_reply.started": "2022-08-10T11:33:50.864906Z",
          "shell.execute_reply": "2022-08-10T11:33:50.951064Z"
        },
        "trusted": true,
        "colab": {
          "base_uri": "https://localhost:8080/",
          "height": 300
        },
        "id": "RQ4BFXjvukWy",
        "outputId": "7bbacf75-04ce-43e8-dd98-b694fca36508"
      },
      "execution_count": 30,
      "outputs": [
        {
          "output_type": "execute_result",
          "data": {
            "text/plain": [
              "            Income          Age   Experience  CURRENT_JOB_YRS  \\\n",
              "count  252000.0000  252000.0000  252000.0000      252000.0000   \n",
              "mean        0.0000      -0.0000       0.0000          -0.0000   \n",
              "std         1.0000       1.0000       1.0000           1.0000   \n",
              "min        -1.7325      -1.6968      -1.6800          -1.7367   \n",
              "25%        -0.8665      -0.8764      -0.8470          -0.9141   \n",
              "50%         0.0012       0.0027      -0.0141          -0.0915   \n",
              "75%         0.8618       0.8817       0.8189           0.7310   \n",
              "max         1.7381       1.7022       1.6519           2.1020   \n",
              "\n",
              "       CURRENT_HOUSE_YRS  \n",
              "count        252000.0000  \n",
              "mean             -0.0000  \n",
              "std               1.0000  \n",
              "min              -1.4280  \n",
              "25%              -0.7132  \n",
              "50%               0.0016  \n",
              "75%               0.7164  \n",
              "max               1.4311  "
            ],
            "text/html": [
              "\n",
              "  <div id=\"df-0032391e-bb59-4feb-a29b-12456088f302\">\n",
              "    <div class=\"colab-df-container\">\n",
              "      <div>\n",
              "<style scoped>\n",
              "    .dataframe tbody tr th:only-of-type {\n",
              "        vertical-align: middle;\n",
              "    }\n",
              "\n",
              "    .dataframe tbody tr th {\n",
              "        vertical-align: top;\n",
              "    }\n",
              "\n",
              "    .dataframe thead th {\n",
              "        text-align: right;\n",
              "    }\n",
              "</style>\n",
              "<table border=\"1\" class=\"dataframe\">\n",
              "  <thead>\n",
              "    <tr style=\"text-align: right;\">\n",
              "      <th></th>\n",
              "      <th>Income</th>\n",
              "      <th>Age</th>\n",
              "      <th>Experience</th>\n",
              "      <th>CURRENT_JOB_YRS</th>\n",
              "      <th>CURRENT_HOUSE_YRS</th>\n",
              "    </tr>\n",
              "  </thead>\n",
              "  <tbody>\n",
              "    <tr>\n",
              "      <th>count</th>\n",
              "      <td>252000.0000</td>\n",
              "      <td>252000.0000</td>\n",
              "      <td>252000.0000</td>\n",
              "      <td>252000.0000</td>\n",
              "      <td>252000.0000</td>\n",
              "    </tr>\n",
              "    <tr>\n",
              "      <th>mean</th>\n",
              "      <td>0.0000</td>\n",
              "      <td>-0.0000</td>\n",
              "      <td>0.0000</td>\n",
              "      <td>-0.0000</td>\n",
              "      <td>-0.0000</td>\n",
              "    </tr>\n",
              "    <tr>\n",
              "      <th>std</th>\n",
              "      <td>1.0000</td>\n",
              "      <td>1.0000</td>\n",
              "      <td>1.0000</td>\n",
              "      <td>1.0000</td>\n",
              "      <td>1.0000</td>\n",
              "    </tr>\n",
              "    <tr>\n",
              "      <th>min</th>\n",
              "      <td>-1.7325</td>\n",
              "      <td>-1.6968</td>\n",
              "      <td>-1.6800</td>\n",
              "      <td>-1.7367</td>\n",
              "      <td>-1.4280</td>\n",
              "    </tr>\n",
              "    <tr>\n",
              "      <th>25%</th>\n",
              "      <td>-0.8665</td>\n",
              "      <td>-0.8764</td>\n",
              "      <td>-0.8470</td>\n",
              "      <td>-0.9141</td>\n",
              "      <td>-0.7132</td>\n",
              "    </tr>\n",
              "    <tr>\n",
              "      <th>50%</th>\n",
              "      <td>0.0012</td>\n",
              "      <td>0.0027</td>\n",
              "      <td>-0.0141</td>\n",
              "      <td>-0.0915</td>\n",
              "      <td>0.0016</td>\n",
              "    </tr>\n",
              "    <tr>\n",
              "      <th>75%</th>\n",
              "      <td>0.8618</td>\n",
              "      <td>0.8817</td>\n",
              "      <td>0.8189</td>\n",
              "      <td>0.7310</td>\n",
              "      <td>0.7164</td>\n",
              "    </tr>\n",
              "    <tr>\n",
              "      <th>max</th>\n",
              "      <td>1.7381</td>\n",
              "      <td>1.7022</td>\n",
              "      <td>1.6519</td>\n",
              "      <td>2.1020</td>\n",
              "      <td>1.4311</td>\n",
              "    </tr>\n",
              "  </tbody>\n",
              "</table>\n",
              "</div>\n",
              "      <button class=\"colab-df-convert\" onclick=\"convertToInteractive('df-0032391e-bb59-4feb-a29b-12456088f302')\"\n",
              "              title=\"Convert this dataframe to an interactive table.\"\n",
              "              style=\"display:none;\">\n",
              "        \n",
              "  <svg xmlns=\"http://www.w3.org/2000/svg\" height=\"24px\"viewBox=\"0 0 24 24\"\n",
              "       width=\"24px\">\n",
              "    <path d=\"M0 0h24v24H0V0z\" fill=\"none\"/>\n",
              "    <path d=\"M18.56 5.44l.94 2.06.94-2.06 2.06-.94-2.06-.94-.94-2.06-.94 2.06-2.06.94zm-11 1L8.5 8.5l.94-2.06 2.06-.94-2.06-.94L8.5 2.5l-.94 2.06-2.06.94zm10 10l.94 2.06.94-2.06 2.06-.94-2.06-.94-.94-2.06-.94 2.06-2.06.94z\"/><path d=\"M17.41 7.96l-1.37-1.37c-.4-.4-.92-.59-1.43-.59-.52 0-1.04.2-1.43.59L10.3 9.45l-7.72 7.72c-.78.78-.78 2.05 0 2.83L4 21.41c.39.39.9.59 1.41.59.51 0 1.02-.2 1.41-.59l7.78-7.78 2.81-2.81c.8-.78.8-2.07 0-2.86zM5.41 20L4 18.59l7.72-7.72 1.47 1.35L5.41 20z\"/>\n",
              "  </svg>\n",
              "      </button>\n",
              "      \n",
              "  <style>\n",
              "    .colab-df-container {\n",
              "      display:flex;\n",
              "      flex-wrap:wrap;\n",
              "      gap: 12px;\n",
              "    }\n",
              "\n",
              "    .colab-df-convert {\n",
              "      background-color: #E8F0FE;\n",
              "      border: none;\n",
              "      border-radius: 50%;\n",
              "      cursor: pointer;\n",
              "      display: none;\n",
              "      fill: #1967D2;\n",
              "      height: 32px;\n",
              "      padding: 0 0 0 0;\n",
              "      width: 32px;\n",
              "    }\n",
              "\n",
              "    .colab-df-convert:hover {\n",
              "      background-color: #E2EBFA;\n",
              "      box-shadow: 0px 1px 2px rgba(60, 64, 67, 0.3), 0px 1px 3px 1px rgba(60, 64, 67, 0.15);\n",
              "      fill: #174EA6;\n",
              "    }\n",
              "\n",
              "    [theme=dark] .colab-df-convert {\n",
              "      background-color: #3B4455;\n",
              "      fill: #D2E3FC;\n",
              "    }\n",
              "\n",
              "    [theme=dark] .colab-df-convert:hover {\n",
              "      background-color: #434B5C;\n",
              "      box-shadow: 0px 1px 3px 1px rgba(0, 0, 0, 0.15);\n",
              "      filter: drop-shadow(0px 1px 2px rgba(0, 0, 0, 0.3));\n",
              "      fill: #FFFFFF;\n",
              "    }\n",
              "  </style>\n",
              "\n",
              "      <script>\n",
              "        const buttonEl =\n",
              "          document.querySelector('#df-0032391e-bb59-4feb-a29b-12456088f302 button.colab-df-convert');\n",
              "        buttonEl.style.display =\n",
              "          google.colab.kernel.accessAllowed ? 'block' : 'none';\n",
              "\n",
              "        async function convertToInteractive(key) {\n",
              "          const element = document.querySelector('#df-0032391e-bb59-4feb-a29b-12456088f302');\n",
              "          const dataTable =\n",
              "            await google.colab.kernel.invokeFunction('convertToInteractive',\n",
              "                                                     [key], {});\n",
              "          if (!dataTable) return;\n",
              "\n",
              "          const docLinkHtml = 'Like what you see? Visit the ' +\n",
              "            '<a target=\"_blank\" href=https://colab.research.google.com/notebooks/data_table.ipynb>data table notebook</a>'\n",
              "            + ' to learn more about interactive tables.';\n",
              "          element.innerHTML = '';\n",
              "          dataTable['output_type'] = 'display_data';\n",
              "          await google.colab.output.renderOutput(dataTable, element);\n",
              "          const docLink = document.createElement('div');\n",
              "          docLink.innerHTML = docLinkHtml;\n",
              "          element.appendChild(docLink);\n",
              "        }\n",
              "      </script>\n",
              "    </div>\n",
              "  </div>\n",
              "  "
            ]
          },
          "metadata": {},
          "execution_count": 30
        }
      ]
    },
    {
      "cell_type": "code",
      "source": [
        "#pembagian data latih dan data uji. dengan rasio 9:1\n",
        "from sklearn.model_selection import train_test_split\n",
        "\n",
        "x_train,x_test,y_train,y_test= train_test_split(X, y, test_size=0.1, random_state=42)\n",
        "print(f'Total # of sample in whole dataset: {len(X)}')\n",
        "print(f'Total # of sample in train dataset: {len(x_train)}')\n",
        "print(f'Total # of sample in test dataset: {len(x_test)}')"
      ],
      "metadata": {
        "execution": {
          "iopub.status.busy": "2022-08-10T11:34:24.064446Z",
          "iopub.execute_input": "2022-08-10T11:34:24.065389Z",
          "iopub.status.idle": "2022-08-10T11:34:24.269095Z",
          "shell.execute_reply.started": "2022-08-10T11:34:24.065349Z",
          "shell.execute_reply": "2022-08-10T11:34:24.267779Z"
        },
        "trusted": true,
        "colab": {
          "base_uri": "https://localhost:8080/"
        },
        "id": "ZpupsihrukW0",
        "outputId": "145b1f36-ff99-4880-f6fa-9650ef915633"
      },
      "execution_count": 31,
      "outputs": [
        {
          "output_type": "stream",
          "name": "stdout",
          "text": [
            "Total # of sample in whole dataset: 252000\n",
            "Total # of sample in train dataset: 226800\n",
            "Total # of sample in test dataset: 25200\n"
          ]
        }
      ]
    },
    {
      "cell_type": "code",
      "source": [
        "#melakukan oversampling karena distribusi target value tidak merata, nilai 0 jauh lebih banyak daripada 1\n",
        "from imblearn.over_sampling import RandomOverSampler\n",
        "ros = RandomOverSampler()\n",
        "X1, y1 = ros.fit_resample(x_train,y_train)\n",
        "y1.value_counts()"
      ],
      "metadata": {
        "execution": {
          "iopub.status.busy": "2022-08-10T11:35:31.164744Z",
          "iopub.execute_input": "2022-08-10T11:35:31.165285Z",
          "iopub.status.idle": "2022-08-10T11:35:32.295392Z",
          "shell.execute_reply.started": "2022-08-10T11:35:31.165245Z",
          "shell.execute_reply": "2022-08-10T11:35:32.294176Z"
        },
        "trusted": true,
        "colab": {
          "base_uri": "https://localhost:8080/"
        },
        "id": "38q_b3LjukW1",
        "outputId": "f34aef05-4246-44eb-a44a-54c8c5366c85"
      },
      "execution_count": 32,
      "outputs": [
        {
          "output_type": "execute_result",
          "data": {
            "text/plain": [
              "0    198943\n",
              "1    198943\n",
              "Name: Risk_Flag, dtype: int64"
            ]
          },
          "metadata": {},
          "execution_count": 32
        }
      ]
    },
    {
      "cell_type": "markdown",
      "source": [
        "# Model Development\n",
        "1. Random forest\n",
        "2. neural network"
      ],
      "metadata": {
        "id": "E4M10W9m8Ra9"
      }
    },
    {
      "cell_type": "code",
      "source": [
        "# fitting training data dengan model random forest\n",
        "from sklearn.ensemble import RandomForestClassifier\n",
        "model= RandomForestClassifier(criterion='gini',random_state=42)\n",
        "model.fit(X1,y1)\n",
        "predict_rf= model.predict(x_test)"
      ],
      "metadata": {
        "execution": {
          "iopub.status.busy": "2022-08-10T11:36:11.654577Z",
          "iopub.execute_input": "2022-08-10T11:36:11.655004Z",
          "iopub.status.idle": "2022-08-10T11:38:40.332836Z",
          "shell.execute_reply.started": "2022-08-10T11:36:11.654969Z",
          "shell.execute_reply": "2022-08-10T11:38:40.331603Z"
        },
        "trusted": true,
        "id": "LPkRpCwUukW4"
      },
      "execution_count": 34,
      "outputs": []
    },
    {
      "cell_type": "code",
      "source": [
        "from sklearn.metrics import confusion_matrix,accuracy_score,classification_report\n",
        "\n",
        "#confusion matrix\n",
        "print(f\"Confusion Matrix: \\n {confusion_matrix(predict_rf,y_test)}\\n\")\n",
        "\n",
        "#classification matrix\n",
        "print(classification_report(predict_rf,y_test))\n",
        "\n",
        "#Accuracy\n",
        "print(f\"Accuracy Score: {accuracy_score(predict_rf,y_test)* 100:.2f}%\")"
      ],
      "metadata": {
        "execution": {
          "iopub.status.busy": "2022-08-10T11:38:45.081759Z",
          "iopub.execute_input": "2022-08-10T11:38:45.082208Z",
          "iopub.status.idle": "2022-08-10T11:38:45.142180Z",
          "shell.execute_reply.started": "2022-08-10T11:38:45.082170Z",
          "shell.execute_reply": "2022-08-10T11:38:45.140863Z"
        },
        "trusted": true,
        "colab": {
          "base_uri": "https://localhost:8080/"
        },
        "id": "bqqzuP83ukW5",
        "outputId": "6f28b775-7b06-4b2c-e94c-e9e37b7c8793"
      },
      "execution_count": 35,
      "outputs": [
        {
          "output_type": "stream",
          "name": "stdout",
          "text": [
            "Confusion Matrix: \n",
            " [[20129   753]\n",
            " [ 1932  2386]]\n",
            "\n",
            "              precision    recall  f1-score   support\n",
            "\n",
            "           0       0.91      0.96      0.94     20882\n",
            "           1       0.76      0.55      0.64      4318\n",
            "\n",
            "    accuracy                           0.89     25200\n",
            "   macro avg       0.84      0.76      0.79     25200\n",
            "weighted avg       0.89      0.89      0.89     25200\n",
            "\n",
            "Accuracy Score: 89.35%\n"
          ]
        }
      ]
    },
    {
      "cell_type": "code",
      "source": [
        "# create and fit a Baseline Neural Network Model\n",
        "model = Sequential()\n",
        "model.add(Dense(128, activation='relu', input_dim=92))\n",
        "#model.add(Dense(units=64, activation='relu'))\n",
        "model.add(Dense(units=32, activation='relu'))\n",
        "model.add(Dropout(0.2))\n",
        "model.add(Dense(1, activation='sigmoid'))\n",
        "\n",
        "model.summary()"
      ],
      "metadata": {
        "execution": {
          "iopub.status.busy": "2022-08-10T12:07:39.849582Z",
          "iopub.execute_input": "2022-08-10T12:07:39.850510Z",
          "iopub.status.idle": "2022-08-10T12:07:39.892162Z",
          "shell.execute_reply.started": "2022-08-10T12:07:39.850450Z",
          "shell.execute_reply": "2022-08-10T12:07:39.890872Z"
        },
        "trusted": true,
        "colab": {
          "base_uri": "https://localhost:8080/"
        },
        "id": "dEjoTYawukW7",
        "outputId": "68f32ab4-f4b1-4a7c-cdf0-7c8eb6fd91ab"
      },
      "execution_count": 42,
      "outputs": [
        {
          "output_type": "stream",
          "name": "stdout",
          "text": [
            "Model: \"sequential_2\"\n",
            "_________________________________________________________________\n",
            " Layer (type)                Output Shape              Param #   \n",
            "=================================================================\n",
            " dense_6 (Dense)             (None, 128)               11904     \n",
            "                                                                 \n",
            " dense_7 (Dense)             (None, 32)                4128      \n",
            "                                                                 \n",
            " dropout_2 (Dropout)         (None, 32)                0         \n",
            "                                                                 \n",
            " dense_8 (Dense)             (None, 1)                 33        \n",
            "                                                                 \n",
            "=================================================================\n",
            "Total params: 16,065\n",
            "Trainable params: 16,065\n",
            "Non-trainable params: 0\n",
            "_________________________________________________________________\n"
          ]
        }
      ]
    },
    {
      "cell_type": "code",
      "source": [
        "model.compile(metrics =['accuracy'], loss='binary_crossentropy', optimizer='adam')\n",
        "model.fit(x_train, y_train, epochs=20, batch_size=1500, verbose=1)"
      ],
      "metadata": {
        "execution": {
          "iopub.status.busy": "2022-08-10T12:19:31.996392Z",
          "iopub.execute_input": "2022-08-10T12:19:31.996943Z",
          "iopub.status.idle": "2022-08-10T12:19:59.429007Z",
          "shell.execute_reply.started": "2022-08-10T12:19:31.996885Z",
          "shell.execute_reply": "2022-08-10T12:19:59.428099Z"
        },
        "trusted": true,
        "colab": {
          "base_uri": "https://localhost:8080/"
        },
        "id": "T7G6lf5bukW8",
        "outputId": "01938db8-bdc3-42e9-b72c-8177fde2f441"
      },
      "execution_count": 43,
      "outputs": [
        {
          "output_type": "stream",
          "name": "stdout",
          "text": [
            "Epoch 1/20\n",
            "152/152 [==============================] - 2s 8ms/step - loss: 0.3914 - accuracy: 0.8749\n",
            "Epoch 2/20\n",
            "152/152 [==============================] - 1s 8ms/step - loss: 0.3673 - accuracy: 0.8772\n",
            "Epoch 3/20\n",
            "152/152 [==============================] - 1s 8ms/step - loss: 0.3564 - accuracy: 0.8772\n",
            "Epoch 4/20\n",
            "152/152 [==============================] - 1s 8ms/step - loss: 0.3398 - accuracy: 0.8773\n",
            "Epoch 5/20\n",
            "152/152 [==============================] - 1s 8ms/step - loss: 0.3206 - accuracy: 0.8784\n",
            "Epoch 6/20\n",
            "152/152 [==============================] - 1s 8ms/step - loss: 0.3026 - accuracy: 0.8811\n",
            "Epoch 7/20\n",
            "152/152 [==============================] - 1s 8ms/step - loss: 0.2875 - accuracy: 0.8841\n",
            "Epoch 8/20\n",
            "152/152 [==============================] - 1s 8ms/step - loss: 0.2757 - accuracy: 0.8869\n",
            "Epoch 9/20\n",
            "152/152 [==============================] - 1s 8ms/step - loss: 0.2671 - accuracy: 0.8887\n",
            "Epoch 10/20\n",
            "152/152 [==============================] - 1s 8ms/step - loss: 0.2602 - accuracy: 0.8906\n",
            "Epoch 11/20\n",
            "152/152 [==============================] - 1s 8ms/step - loss: 0.2551 - accuracy: 0.8915\n",
            "Epoch 12/20\n",
            "152/152 [==============================] - 1s 8ms/step - loss: 0.2509 - accuracy: 0.8933\n",
            "Epoch 13/20\n",
            "152/152 [==============================] - 1s 8ms/step - loss: 0.2465 - accuracy: 0.8941\n",
            "Epoch 14/20\n",
            "152/152 [==============================] - 1s 8ms/step - loss: 0.2436 - accuracy: 0.8946\n",
            "Epoch 15/20\n",
            "152/152 [==============================] - 1s 8ms/step - loss: 0.2412 - accuracy: 0.8949\n",
            "Epoch 16/20\n",
            "152/152 [==============================] - 1s 8ms/step - loss: 0.2394 - accuracy: 0.8952\n",
            "Epoch 17/20\n",
            "152/152 [==============================] - 1s 8ms/step - loss: 0.2374 - accuracy: 0.8961\n",
            "Epoch 18/20\n",
            "152/152 [==============================] - 1s 8ms/step - loss: 0.2360 - accuracy: 0.8959\n",
            "Epoch 19/20\n",
            "152/152 [==============================] - 1s 8ms/step - loss: 0.2334 - accuracy: 0.8963\n",
            "Epoch 20/20\n",
            "152/152 [==============================] - 1s 8ms/step - loss: 0.2322 - accuracy: 0.8972\n"
          ]
        },
        {
          "output_type": "execute_result",
          "data": {
            "text/plain": [
              "<keras.callbacks.History at 0x7f00e56e0810>"
            ]
          },
          "metadata": {},
          "execution_count": 43
        }
      ]
    },
    {
      "cell_type": "code",
      "source": [
        "# uji model neural network dengan data uji\n",
        "y_pred = model.predict(x_test)\n",
        "y_pred = (y_pred > 0.5) # mengubah nilai menjadi true (1) jika > 0,5"
      ],
      "metadata": {
        "execution": {
          "iopub.status.busy": "2022-08-10T12:21:29.669934Z",
          "iopub.execute_input": "2022-08-10T12:21:29.671258Z",
          "iopub.status.idle": "2022-08-10T12:21:30.440183Z",
          "shell.execute_reply.started": "2022-08-10T12:21:29.671213Z",
          "shell.execute_reply": "2022-08-10T12:21:30.438929Z"
        },
        "trusted": true,
        "id": "fi-YOOepukW8"
      },
      "execution_count": 44,
      "outputs": []
    },
    {
      "cell_type": "code",
      "source": [
        "from sklearn.metrics import confusion_matrix,accuracy_score,classification_report\n",
        "\n",
        "#confusion matrix\n",
        "print(f\"Confusion Matrix: \\n {confusion_matrix(y_pred,y_test)}\\n\")\n",
        "\n",
        "#classification matrix\n",
        "print(classification_report(y_pred,y_test))\n",
        "\n",
        "#Accuracy\n",
        "print(f\"Accuracy Score: {accuracy_score(y_pred,y_test)* 100:.2f}%\")"
      ],
      "metadata": {
        "execution": {
          "iopub.status.busy": "2022-08-10T12:21:32.829417Z",
          "iopub.execute_input": "2022-08-10T12:21:32.829866Z",
          "iopub.status.idle": "2022-08-10T12:21:32.887912Z",
          "shell.execute_reply.started": "2022-08-10T12:21:32.829825Z",
          "shell.execute_reply": "2022-08-10T12:21:32.886482Z"
        },
        "trusted": true,
        "colab": {
          "base_uri": "https://localhost:8080/"
        },
        "id": "8J47NFCoukW9",
        "outputId": "6d861ff1-5ee0-499b-ee7c-42ab0f49512b"
      },
      "execution_count": 45,
      "outputs": [
        {
          "output_type": "stream",
          "name": "stdout",
          "text": [
            "Confusion Matrix: \n",
            " [[21204  1941]\n",
            " [  857  1198]]\n",
            "\n",
            "              precision    recall  f1-score   support\n",
            "\n",
            "       False       0.96      0.92      0.94     23145\n",
            "        True       0.38      0.58      0.46      2055\n",
            "\n",
            "    accuracy                           0.89     25200\n",
            "   macro avg       0.67      0.75      0.70     25200\n",
            "weighted avg       0.91      0.89      0.90     25200\n",
            "\n",
            "Accuracy Score: 88.90%\n"
          ]
        }
      ]
    },
    {
      "cell_type": "markdown",
      "source": [
        "# kesimpulan:\n",
        "dari 2 model yg dijalankan, berdasarkan akurasi diperoleh bahwa model random forest mengklasifikasikan loan risk lebih baik daripada neural network model"
      ],
      "metadata": {
        "id": "tmUYvkK89lB0"
      }
    },
    {
      "cell_type": "code",
      "source": [
        ""
      ],
      "metadata": {
        "id": "e8OlD_2B9zqv"
      },
      "execution_count": null,
      "outputs": []
    }
  ]
}